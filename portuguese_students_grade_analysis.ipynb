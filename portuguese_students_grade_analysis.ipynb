{
  "nbformat": 4,
  "nbformat_minor": 0,
  "metadata": {
    "colab": {
      "name": "portuguese-students-grade-analysis.ipynb",
      "provenance": [],
      "authorship_tag": "ABX9TyOKjDQHo5XcBHfGuu9Fs6Y1",
      "include_colab_link": true
    },
    "kernelspec": {
      "name": "python3",
      "display_name": "Python 3"
    }
  },
  "cells": [
    {
      "cell_type": "markdown",
      "metadata": {
        "id": "view-in-github",
        "colab_type": "text"
      },
      "source": [
        "<a href=\"https://colab.research.google.com/github/MikeDeecode/Portuguese-students-grades/blob/master/portuguese_students_grade_analysis.ipynb\" target=\"_parent\"><img src=\"https://colab.research.google.com/assets/colab-badge.svg\" alt=\"Open In Colab\"/></a>"
      ]
    },
    {
      "cell_type": "markdown",
      "metadata": {
        "id": "E2qjfBDx5Lir",
        "colab_type": "text"
      },
      "source": [
        "#**GRADES OF STUDENTS IN MATHEMATICS AND PORTUGUESE LANGUAGE FROM GABRIEL PEREIRA HIGH SCHOOL (GP) AND MOUSINHO DA SILVEIRA (MS) HIGH SCHOOLS ANALYSIS**"
      ]
    },
    {
      "cell_type": "markdown",
      "metadata": {
        "id": "0CPf8Mnz5jNd",
        "colab_type": "text"
      },
      "source": [
        "(**The aim of the project:**"
      ]
    },
    {
      "cell_type": "markdown",
      "metadata": {
        "id": "9ORMS_jv5r_-",
        "colab_type": "text"
      },
      "source": [
        "* To determine the characteristics that affect the grades of students \n",
        "* To obtain insights from the data \n",
        "* To predict the final grades of students who are not in the dataset \n",
        "\n",
        "Ride along!!!"
      ]
    },
    {
      "cell_type": "markdown",
      "metadata": {
        "id": "AkVtV1C_6cg3",
        "colab_type": "text"
      },
      "source": [
        "##**Exploratory Analysis**"
      ]
    },
    {
      "cell_type": "markdown",
      "metadata": {
        "id": "koR5d7656kNW",
        "colab_type": "text"
      },
      "source": [
        "Import the required libraries for analysis "
      ]
    },
    {
      "cell_type": "code",
      "metadata": {
        "id": "jdINPaRs1xCi",
        "colab_type": "code",
        "colab": {
          "base_uri": "https://localhost:8080/",
          "height": 92
        },
        "outputId": "68fc44fd-0e4d-4c56-8088-e4baa4b7a42a"
      },
      "source": [
        "import numpy as np\n",
        "import pandas as pd\n",
        "import matplotlib.pyplot as plt\n",
        "import seaborn as sns\n",
        "import warnings \n",
        "warnings.filterwarnings('ignore')\n",
        "\n",
        "print(\"Setup complete\")"
      ],
      "execution_count": 1,
      "outputs": [
        {
          "output_type": "stream",
          "text": [
            "Setup complete\n"
          ],
          "name": "stdout"
        },
        {
          "output_type": "stream",
          "text": [
            "/usr/local/lib/python3.6/dist-packages/statsmodels/tools/_testing.py:19: FutureWarning: pandas.util.testing is deprecated. Use the functions in the public API at pandas.testing instead.\n",
            "  import pandas.util.testing as tm\n"
          ],
          "name": "stderr"
        }
      ]
    },
    {
      "cell_type": "markdown",
      "metadata": {
        "id": "O1DPLO5066JT",
        "colab_type": "text"
      },
      "source": [
        "Load the dataset"
      ]
    },
    {
      "cell_type": "code",
      "metadata": {
        "id": "1CnllLbh4fsA",
        "colab_type": "code",
        "colab": {
          "base_uri": "https://localhost:8080/",
          "height": 35
        },
        "outputId": "f85ca995-56c0-4ef6-e87c-4c5e3b2dcfd9"
      },
      "source": [
        "grades = pd.read_csv(\"/content/portuguese school students grades.csv\")\n",
        "\n",
        "print(\"Success\")"
      ],
      "execution_count": 2,
      "outputs": [
        {
          "output_type": "stream",
          "text": [
            "Success\n"
          ],
          "name": "stdout"
        }
      ]
    },
    {
      "cell_type": "code",
      "metadata": {
        "id": "8Wn2oRcb7b_Y",
        "colab_type": "code",
        "colab": {
          "base_uri": "https://localhost:8080/",
          "height": 35
        },
        "outputId": "0f55217b-1963-4d33-bcf4-b447ba06e577"
      },
      "source": [
        "grades.shape"
      ],
      "execution_count": 3,
      "outputs": [
        {
          "output_type": "execute_result",
          "data": {
            "text/plain": [
              "(395, 33)"
            ]
          },
          "metadata": {
            "tags": []
          },
          "execution_count": 3
        }
      ]
    },
    {
      "cell_type": "markdown",
      "metadata": {
        "id": "qIm-_z6f7gNO",
        "colab_type": "text"
      },
      "source": [
        "* There are 395 students data (rows) and 33 columns in the dataset "
      ]
    },
    {
      "cell_type": "markdown",
      "metadata": {
        "id": "gVW3Wj-k7tJG",
        "colab_type": "text"
      },
      "source": [
        "**DESCRIPTION OF THE DATASET**"
      ]
    },
    {
      "cell_type": "code",
      "metadata": {
        "id": "pr2KAw4Y7Liu",
        "colab_type": "code",
        "colab": {
          "base_uri": "https://localhost:8080/",
          "height": 217
        },
        "outputId": "c73a487a-088b-445b-b23e-03829b13fa9f"
      },
      "source": [
        "grades.head()"
      ],
      "execution_count": 4,
      "outputs": [
        {
          "output_type": "execute_result",
          "data": {
            "text/html": [
              "<div>\n",
              "<style scoped>\n",
              "    .dataframe tbody tr th:only-of-type {\n",
              "        vertical-align: middle;\n",
              "    }\n",
              "\n",
              "    .dataframe tbody tr th {\n",
              "        vertical-align: top;\n",
              "    }\n",
              "\n",
              "    .dataframe thead th {\n",
              "        text-align: right;\n",
              "    }\n",
              "</style>\n",
              "<table border=\"1\" class=\"dataframe\">\n",
              "  <thead>\n",
              "    <tr style=\"text-align: right;\">\n",
              "      <th></th>\n",
              "      <th>school</th>\n",
              "      <th>sex</th>\n",
              "      <th>age</th>\n",
              "      <th>address</th>\n",
              "      <th>famsize</th>\n",
              "      <th>Pstatus</th>\n",
              "      <th>Medu</th>\n",
              "      <th>Fedu</th>\n",
              "      <th>Mjob</th>\n",
              "      <th>Fjob</th>\n",
              "      <th>reason</th>\n",
              "      <th>guardian</th>\n",
              "      <th>traveltime</th>\n",
              "      <th>studytime</th>\n",
              "      <th>failures</th>\n",
              "      <th>schoolsup</th>\n",
              "      <th>famsup</th>\n",
              "      <th>paid</th>\n",
              "      <th>activities</th>\n",
              "      <th>nursery</th>\n",
              "      <th>higher</th>\n",
              "      <th>internet</th>\n",
              "      <th>romantic</th>\n",
              "      <th>famrel</th>\n",
              "      <th>freetime</th>\n",
              "      <th>goout</th>\n",
              "      <th>Dalc</th>\n",
              "      <th>Walc</th>\n",
              "      <th>health</th>\n",
              "      <th>absences</th>\n",
              "      <th>G1</th>\n",
              "      <th>G2</th>\n",
              "      <th>G3</th>\n",
              "    </tr>\n",
              "  </thead>\n",
              "  <tbody>\n",
              "    <tr>\n",
              "      <th>0</th>\n",
              "      <td>GP</td>\n",
              "      <td>F</td>\n",
              "      <td>18</td>\n",
              "      <td>U</td>\n",
              "      <td>GT3</td>\n",
              "      <td>A</td>\n",
              "      <td>4</td>\n",
              "      <td>4</td>\n",
              "      <td>at_home</td>\n",
              "      <td>teacher</td>\n",
              "      <td>course</td>\n",
              "      <td>mother</td>\n",
              "      <td>2</td>\n",
              "      <td>2</td>\n",
              "      <td>0</td>\n",
              "      <td>yes</td>\n",
              "      <td>no</td>\n",
              "      <td>no</td>\n",
              "      <td>no</td>\n",
              "      <td>yes</td>\n",
              "      <td>yes</td>\n",
              "      <td>no</td>\n",
              "      <td>no</td>\n",
              "      <td>4</td>\n",
              "      <td>3</td>\n",
              "      <td>4</td>\n",
              "      <td>1</td>\n",
              "      <td>1</td>\n",
              "      <td>3</td>\n",
              "      <td>6</td>\n",
              "      <td>5</td>\n",
              "      <td>6</td>\n",
              "      <td>6</td>\n",
              "    </tr>\n",
              "    <tr>\n",
              "      <th>1</th>\n",
              "      <td>GP</td>\n",
              "      <td>F</td>\n",
              "      <td>17</td>\n",
              "      <td>U</td>\n",
              "      <td>GT3</td>\n",
              "      <td>T</td>\n",
              "      <td>1</td>\n",
              "      <td>1</td>\n",
              "      <td>at_home</td>\n",
              "      <td>other</td>\n",
              "      <td>course</td>\n",
              "      <td>father</td>\n",
              "      <td>1</td>\n",
              "      <td>2</td>\n",
              "      <td>0</td>\n",
              "      <td>no</td>\n",
              "      <td>yes</td>\n",
              "      <td>no</td>\n",
              "      <td>no</td>\n",
              "      <td>no</td>\n",
              "      <td>yes</td>\n",
              "      <td>yes</td>\n",
              "      <td>no</td>\n",
              "      <td>5</td>\n",
              "      <td>3</td>\n",
              "      <td>3</td>\n",
              "      <td>1</td>\n",
              "      <td>1</td>\n",
              "      <td>3</td>\n",
              "      <td>4</td>\n",
              "      <td>5</td>\n",
              "      <td>5</td>\n",
              "      <td>6</td>\n",
              "    </tr>\n",
              "    <tr>\n",
              "      <th>2</th>\n",
              "      <td>GP</td>\n",
              "      <td>F</td>\n",
              "      <td>15</td>\n",
              "      <td>U</td>\n",
              "      <td>LE3</td>\n",
              "      <td>T</td>\n",
              "      <td>1</td>\n",
              "      <td>1</td>\n",
              "      <td>at_home</td>\n",
              "      <td>other</td>\n",
              "      <td>other</td>\n",
              "      <td>mother</td>\n",
              "      <td>1</td>\n",
              "      <td>2</td>\n",
              "      <td>3</td>\n",
              "      <td>yes</td>\n",
              "      <td>no</td>\n",
              "      <td>yes</td>\n",
              "      <td>no</td>\n",
              "      <td>yes</td>\n",
              "      <td>yes</td>\n",
              "      <td>yes</td>\n",
              "      <td>no</td>\n",
              "      <td>4</td>\n",
              "      <td>3</td>\n",
              "      <td>2</td>\n",
              "      <td>2</td>\n",
              "      <td>3</td>\n",
              "      <td>3</td>\n",
              "      <td>10</td>\n",
              "      <td>7</td>\n",
              "      <td>8</td>\n",
              "      <td>10</td>\n",
              "    </tr>\n",
              "    <tr>\n",
              "      <th>3</th>\n",
              "      <td>GP</td>\n",
              "      <td>F</td>\n",
              "      <td>15</td>\n",
              "      <td>U</td>\n",
              "      <td>GT3</td>\n",
              "      <td>T</td>\n",
              "      <td>4</td>\n",
              "      <td>2</td>\n",
              "      <td>health</td>\n",
              "      <td>services</td>\n",
              "      <td>home</td>\n",
              "      <td>mother</td>\n",
              "      <td>1</td>\n",
              "      <td>3</td>\n",
              "      <td>0</td>\n",
              "      <td>no</td>\n",
              "      <td>yes</td>\n",
              "      <td>yes</td>\n",
              "      <td>yes</td>\n",
              "      <td>yes</td>\n",
              "      <td>yes</td>\n",
              "      <td>yes</td>\n",
              "      <td>yes</td>\n",
              "      <td>3</td>\n",
              "      <td>2</td>\n",
              "      <td>2</td>\n",
              "      <td>1</td>\n",
              "      <td>1</td>\n",
              "      <td>5</td>\n",
              "      <td>2</td>\n",
              "      <td>15</td>\n",
              "      <td>14</td>\n",
              "      <td>15</td>\n",
              "    </tr>\n",
              "    <tr>\n",
              "      <th>4</th>\n",
              "      <td>GP</td>\n",
              "      <td>F</td>\n",
              "      <td>16</td>\n",
              "      <td>U</td>\n",
              "      <td>GT3</td>\n",
              "      <td>T</td>\n",
              "      <td>3</td>\n",
              "      <td>3</td>\n",
              "      <td>other</td>\n",
              "      <td>other</td>\n",
              "      <td>home</td>\n",
              "      <td>father</td>\n",
              "      <td>1</td>\n",
              "      <td>2</td>\n",
              "      <td>0</td>\n",
              "      <td>no</td>\n",
              "      <td>yes</td>\n",
              "      <td>yes</td>\n",
              "      <td>no</td>\n",
              "      <td>yes</td>\n",
              "      <td>yes</td>\n",
              "      <td>no</td>\n",
              "      <td>no</td>\n",
              "      <td>4</td>\n",
              "      <td>3</td>\n",
              "      <td>2</td>\n",
              "      <td>1</td>\n",
              "      <td>2</td>\n",
              "      <td>5</td>\n",
              "      <td>4</td>\n",
              "      <td>6</td>\n",
              "      <td>10</td>\n",
              "      <td>10</td>\n",
              "    </tr>\n",
              "  </tbody>\n",
              "</table>\n",
              "</div>"
            ],
            "text/plain": [
              "  school sex  age address famsize Pstatus  ...  Walc  health absences  G1  G2  G3\n",
              "0     GP   F   18       U     GT3       A  ...     1       3        6   5   6   6\n",
              "1     GP   F   17       U     GT3       T  ...     1       3        4   5   5   6\n",
              "2     GP   F   15       U     LE3       T  ...     3       3       10   7   8  10\n",
              "3     GP   F   15       U     GT3       T  ...     1       5        2  15  14  15\n",
              "4     GP   F   16       U     GT3       T  ...     2       5        4   6  10  10\n",
              "\n",
              "[5 rows x 33 columns]"
            ]
          },
          "metadata": {
            "tags": []
          },
          "execution_count": 4
        }
      ]
    },
    {
      "cell_type": "markdown",
      "metadata": {
        "id": "z3PaHDBG7xSG",
        "colab_type": "text"
      },
      "source": [
        "Below is a nrief description of the columns in the dataset \n",
        "\n",
        "* **school** - student's school ('GP' - Gabriel Pereira or 'MS' - Mousinho da Silveira)\n",
        "* **sex** - student's sex ('F' - female or 'M' - male)\n",
        "* **age** - student's age (from 15 to 22)\n",
        "* **address** - student's home address type ('U' - urban or 'R' - rural)\n",
        "* **famsize** - family size ('LE3' - less or equal to 3 or 'GT3' - greater than 3)\n",
        "* **Pstatus** - parent's cohabitation status ('T' - living together or 'A' - apart)\n",
        "* **Medu** - mother's education (0 - none, 1 - primary education (4th grade), 2 - 5th to 9th grade, 3 - secondary education or 4 - higher education)\n",
        "* **Fedu** - father's education (0 - none, 1 - primary education (4th grade), 2 - 5th to 9th grade, 3 - secondary education or 4 - higher education)\n",
        "* **Mjob** - mother's job ('teacher', 'health' care related, civil 'services' (e.g. administrative or police), 'at_home' or 'other')\n",
        "* **Fjob** - father's job ('teacher', 'health' care related, civil 'services' (e.g. administrative or police), 'at_home' or 'other')\n",
        "* **reason** - reason to choose this school (close to 'home', school 'reputation', 'course' preference or 'other')\n",
        "* **guardian** - student's guardian ('mother', 'father' or 'other')\n",
        "* **traveltime** - home to school travel time\n",
        "* **studytime** - weekly study time (numeric: 1 - 10 hours)\n",
        "* **failures** - number of past class failures\n",
        "* **schoolsup** - extra educational support (yes or no)\n",
        "* **famsup** - family educational support (yes or no)\n",
        "* **paid** - extra paid classes within the course subject (Math or Portuguese) (yes or no)\n",
        "* **activities** - extra-curricular activities (yes or no)\n",
        "* **nursery** - attended nursery school (yes or no)\n",
        "* **higher** - wants to take higher education (yes or no)\n",
        "* **internet** - Internet access at home (yes or no)\n",
        "* **romantic** - with a romantic relationship (yes or no)\n",
        "* **famrel** - quality of family relationships (from 1 - very bad to 5 - excellent)\n",
        "* **freetime** - free time after school (from 1 - very low to 5 - very high)\n",
        "* **goout** - going out with friends (from 1 - very low to 5 - very high)\n",
        "* **Dalc** - workday alcohol consumption (from 1 - very low to 5 - very high)\n",
        "* **Walc** - weekend alcohol consumption (from 1 - very low to 5 - very high)\n",
        "* **health** - current health status (from 1 - very bad to 5 - very good)\n",
        "* **absences** - number of school absences (from 0 to 93)\n",
        "* **G1** - first period grade (from 0 to 20)\n",
        "* **G2** - second period grade (from 0 to 20)\n",
        "* **G3** - final grade (from 0 to 20)"
      ]
    },
    {
      "cell_type": "code",
      "metadata": {
        "id": "81vqdskk7WOn",
        "colab_type": "code",
        "colab": {
          "base_uri": "https://localhost:8080/",
          "height": 750
        },
        "outputId": "9d46842b-1a22-4018-c745-01cf3ce4e359"
      },
      "source": [
        "grades.info()"
      ],
      "execution_count": 5,
      "outputs": [
        {
          "output_type": "stream",
          "text": [
            "<class 'pandas.core.frame.DataFrame'>\n",
            "RangeIndex: 395 entries, 0 to 394\n",
            "Data columns (total 33 columns):\n",
            " #   Column      Non-Null Count  Dtype \n",
            "---  ------      --------------  ----- \n",
            " 0   school      395 non-null    object\n",
            " 1   sex         395 non-null    object\n",
            " 2   age         395 non-null    int64 \n",
            " 3   address     395 non-null    object\n",
            " 4   famsize     395 non-null    object\n",
            " 5   Pstatus     395 non-null    object\n",
            " 6   Medu        395 non-null    int64 \n",
            " 7   Fedu        395 non-null    int64 \n",
            " 8   Mjob        395 non-null    object\n",
            " 9   Fjob        395 non-null    object\n",
            " 10  reason      395 non-null    object\n",
            " 11  guardian    395 non-null    object\n",
            " 12  traveltime  395 non-null    int64 \n",
            " 13  studytime   395 non-null    int64 \n",
            " 14  failures    395 non-null    int64 \n",
            " 15  schoolsup   395 non-null    object\n",
            " 16  famsup      395 non-null    object\n",
            " 17  paid        395 non-null    object\n",
            " 18  activities  395 non-null    object\n",
            " 19  nursery     395 non-null    object\n",
            " 20  higher      395 non-null    object\n",
            " 21  internet    395 non-null    object\n",
            " 22  romantic    395 non-null    object\n",
            " 23  famrel      395 non-null    int64 \n",
            " 24  freetime    395 non-null    int64 \n",
            " 25  goout       395 non-null    int64 \n",
            " 26  Dalc        395 non-null    int64 \n",
            " 27  Walc        395 non-null    int64 \n",
            " 28  health      395 non-null    int64 \n",
            " 29  absences    395 non-null    int64 \n",
            " 30  G1          395 non-null    int64 \n",
            " 31  G2          395 non-null    int64 \n",
            " 32  G3          395 non-null    int64 \n",
            "dtypes: int64(16), object(17)\n",
            "memory usage: 102.0+ KB\n"
          ],
          "name": "stdout"
        }
      ]
    },
    {
      "cell_type": "markdown",
      "metadata": {
        "id": "MFp7ot3_BsdU",
        "colab_type": "text"
      },
      "source": [
        "There are no missing values in the data \n",
        "\n",
        "Thus we can start analysing the features"
      ]
    },
    {
      "cell_type": "markdown",
      "metadata": {
        "id": "558XluZ6COUC",
        "colab_type": "text"
      },
      "source": [
        "Please note that I my analysis is based on predicting the final grade G3"
      ]
    },
    {
      "cell_type": "markdown",
      "metadata": {
        "id": "xDhZY4OIB0cy",
        "colab_type": "text"
      },
      "source": [
        "###SCHOOL (school)"
      ]
    },
    {
      "cell_type": "markdown",
      "metadata": {
        "id": "vU_Rtz-YB_ci",
        "colab_type": "text"
      },
      "source": [
        "**NUMBER OF STUDENTS BY SCHOOL**"
      ]
    },
    {
      "cell_type": "code",
      "metadata": {
        "id": "3m-yVXEgBnZk",
        "colab_type": "code",
        "colab": {
          "base_uri": "https://localhost:8080/",
          "height": 72
        },
        "outputId": "1d45f44a-de1b-4ef2-ef7f-026516badbc5"
      },
      "source": [
        "grades['school'].value_counts()"
      ],
      "execution_count": 6,
      "outputs": [
        {
          "output_type": "execute_result",
          "data": {
            "text/plain": [
              "GP    349\n",
              "MS     46\n",
              "Name: school, dtype: int64"
            ]
          },
          "metadata": {
            "tags": []
          },
          "execution_count": 6
        }
      ]
    },
    {
      "cell_type": "markdown",
      "metadata": {
        "id": "WhTA76xaCrb0",
        "colab_type": "text"
      },
      "source": [
        "* There are 349 students from Gbriel Pereira \n",
        "* There are 46 students from Mousinho da Silveira "
      ]
    },
    {
      "cell_type": "code",
      "metadata": {
        "id": "-03OXbnvCl5D",
        "colab_type": "code",
        "colab": {
          "base_uri": "https://localhost:8080/",
          "height": 264
        },
        "outputId": "fe7c4ca6-f2ee-4f8a-bb3d-2074781c882f"
      },
      "source": [
        "size = [349,46]\n",
        "labels = 'Gabriel Pereira HS', 'Mousinho da Silveira HS'\n",
        "explode = [0, 0.1]\n",
        "\n",
        "fig, ax = plt.subplots()\n",
        "ax.pie(size, labels = labels, explode = explode, autopct = '%1.1f%%', startangle = 90)\n",
        "ax.axis('equal')\n",
        "plt.title(\"PIE CHART SHOWING THE PERCENTAGE OF STUDENTS BY SCHOOL\")\n",
        "plt.show() "
      ],
      "execution_count": 7,
      "outputs": [
        {
          "output_type": "display_data",
          "data": {
            "image/png": "[encoded data removed]",
            "text/plain": [
              "<Figure size 432x288 with 1 Axes>"
            ]
          },
          "metadata": {
            "tags": []
          }
        }
      ]
    },
    {
      "cell_type": "markdown",
      "metadata": {
        "id": "J-6CTiItDn7z",
        "colab_type": "text"
      },
      "source": [
        "* 88.4 percent of the students are from Gabriel Pereira\n",
        "* 11.5 percent of the students are from Mousinho da Silveira"
      ]
    },
    {
      "cell_type": "markdown",
      "metadata": {
        "id": "awMwPPeZEanS",
        "colab_type": "text"
      },
      "source": [
        "**SCHOOL AND FINAL GRADE**"
      ]
    },
    {
      "cell_type": "code",
      "metadata": {
        "id": "0sp28495Dj0R",
        "colab_type": "code",
        "colab": {
          "base_uri": "https://localhost:8080/",
          "height": 404
        },
        "outputId": "59e7c23c-e0f5-48c5-a62d-7ab8de928285"
      },
      "source": [
        "plt.figure(figsize = (14, 6))\n",
        "sns.boxplot('G3', 'school', data = grades)\n",
        "plt.title(\"CHART SHOWING SCHOOL AFFECT FINAL GRADE OF STUDENTS\")\n",
        "plt.xlabel('Final grades')\n",
        "plt.show()"
      ],
      "execution_count": 8,
      "outputs": [
        {
          "output_type": "display_data",
          "data": {
            "image/png": "[encoded data removed]",
            "text/plain": [
              "<Figure size 1008x432 with 1 Axes>"
            ]
          },
          "metadata": {
            "tags": [],
            "needs_background": "light"
          }
        }
      ]
    },
    {
      "cell_type": "markdown",
      "metadata": {
        "id": "M8TAjEInGGUy",
        "colab_type": "text"
      },
      "source": [
        "**OBSERVATION**"
      ]
    },
    {
      "cell_type": "markdown",
      "metadata": {
        "id": "rjMGBXYiF-xL",
        "colab_type": "text"
      },
      "source": [
        "* From the diagram above, the school students' attend does not affect their final grade "
      ]
    },
    {
      "cell_type": "markdown",
      "metadata": {
        "id": "NQU7JVajGKG1",
        "colab_type": "text"
      },
      "source": [
        "###SEX (sex)"
      ]
    },
    {
      "cell_type": "markdown",
      "metadata": {
        "id": "buDb8v5lG4S3",
        "colab_type": "text"
      },
      "source": [
        "**NUMBER OF STUDENTS BY GENDER**"
      ]
    },
    {
      "cell_type": "code",
      "metadata": {
        "id": "nsF1bgvzE7t1",
        "colab_type": "code",
        "colab": {
          "base_uri": "https://localhost:8080/",
          "height": 72
        },
        "outputId": "b899b076-2d45-4f40-c8a9-b61a0d6f7b8a"
      },
      "source": [
        "grades['sex'].value_counts()"
      ],
      "execution_count": 9,
      "outputs": [
        {
          "output_type": "execute_result",
          "data": {
            "text/plain": [
              "F    208\n",
              "M    187\n",
              "Name: sex, dtype: int64"
            ]
          },
          "metadata": {
            "tags": []
          },
          "execution_count": 9
        }
      ]
    },
    {
      "cell_type": "markdown",
      "metadata": {
        "id": "7xSkFyvRGV6t",
        "colab_type": "text"
      },
      "source": [
        "* There are 208 female students \n",
        "* There are 187 male students "
      ]
    },
    {
      "cell_type": "code",
      "metadata": {
        "id": "14fiREKFGT-_",
        "colab_type": "code",
        "colab": {
          "base_uri": "https://localhost:8080/",
          "height": 264
        },
        "outputId": "4f295fa0-7009-4b2d-eae0-84853ddf448e"
      },
      "source": [
        "size = [208, 187]\n",
        "labels = 'Female', 'Male'\n",
        "explode = [0, 0.1]\n",
        "\n",
        "fig1, ax1 = plt.subplots()\n",
        "ax1.pie(size, labels = labels, explode = explode, autopct = '%1.1f%%', startangle = 90)\n",
        "ax1.axis('equal')\n",
        "plt.title(\"PIE CHART SHPWING PERCENTAGE OF STUDENTS BY GENDER\")\n",
        "plt.show()"
      ],
      "execution_count": 10,
      "outputs": [
        {
          "output_type": "display_data",
          "data": {
            "image/png": "[encoded data removed]",
            "text/plain": [
              "<Figure size 432x288 with 1 Axes>"
            ]
          },
          "metadata": {
            "tags": []
          }
        }
      ]
    },
    {
      "cell_type": "markdown",
      "metadata": {
        "id": "PgDELoKCLZyh",
        "colab_type": "text"
      },
      "source": [
        "**GENDER AND FINAL GRADE**"
      ]
    },
    {
      "cell_type": "code",
      "metadata": {
        "id": "dvAogmucLdnE",
        "colab_type": "code",
        "colab": {
          "base_uri": "https://localhost:8080/",
          "height": 404
        },
        "outputId": "37cb0210-916f-466a-f611-8752a2a76741"
      },
      "source": [
        "plt.figure(figsize = (14, 6))\n",
        "sns.boxplot('G3', 'sex', data = grades)\n",
        "plt.title(\"CHART SHOWING HOW GENDER AFFECTS FINAL GRADE\")\n",
        "plt.xlabel(\"Final grade\")\n",
        "plt.show()"
      ],
      "execution_count": 11,
      "outputs": [
        {
          "output_type": "display_data",
          "data": {
            "image/png": "[encoded data removed]",
            "text/plain": [
              "<Figure size 1008x432 with 1 Axes>"
            ]
          },
          "metadata": {
            "tags": [],
            "needs_background": "light"
          }
        }
      ]
    },
    {
      "cell_type": "markdown",
      "metadata": {
        "id": "GZDizEC3MjRX",
        "colab_type": "text"
      },
      "source": [
        "**OBSERVATION**\n",
        "\n",
        "* A female student had the lowest grade\n",
        "* A male student had the highest grade\n",
        "* The gender of the students does not affect their final grade much\n"
      ]
    },
    {
      "cell_type": "markdown",
      "metadata": {
        "id": "_wJ6k_LpIkCc",
        "colab_type": "text"
      },
      "source": [
        "###AGE (age)"
      ]
    },
    {
      "cell_type": "markdown",
      "metadata": {
        "id": "NeS3JFC7IofL",
        "colab_type": "text"
      },
      "source": [
        "**NUMBER OF STUDENTS BY AGE**"
      ]
    },
    {
      "cell_type": "code",
      "metadata": {
        "id": "124j6PO4HvCS",
        "colab_type": "code",
        "colab": {
          "base_uri": "https://localhost:8080/",
          "height": 182
        },
        "outputId": "c9ab706d-295c-44a9-cb9d-dc4a9b252126"
      },
      "source": [
        "grades['age'].value_counts()"
      ],
      "execution_count": 12,
      "outputs": [
        {
          "output_type": "execute_result",
          "data": {
            "text/plain": [
              "16    104\n",
              "17     98\n",
              "18     82\n",
              "15     82\n",
              "19     24\n",
              "20      3\n",
              "22      1\n",
              "21      1\n",
              "Name: age, dtype: int64"
            ]
          },
          "metadata": {
            "tags": []
          },
          "execution_count": 12
        }
      ]
    },
    {
      "cell_type": "markdown",
      "metadata": {
        "id": "R-6s11OwJgYl",
        "colab_type": "text"
      },
      "source": [
        "* Majority of the students are 16 years old "
      ]
    },
    {
      "cell_type": "code",
      "metadata": {
        "id": "60It7IP7JQbf",
        "colab_type": "code",
        "colab": {
          "base_uri": "https://localhost:8080/",
          "height": 404
        },
        "outputId": "cb7a2e1d-0224-43a6-df61-f6dd81be83cb"
      },
      "source": [
        "plt.figure(figsize = (14, 6))\n",
        "sns.countplot('age', data = grades)\n",
        "plt.title(\"CHART SHOWING THE NUMBER OF STUDENTS BY AGE\")\n",
        "plt.ylabel(\"Number of students\")\n",
        "plt.show()"
      ],
      "execution_count": 13,
      "outputs": [
        {
          "output_type": "display_data",
          "data": {
            "image/png": "[encoded data removed]",
            "text/plain": [
              "<Figure size 1008x432 with 1 Axes>"
            ]
          },
          "metadata": {
            "tags": [],
            "needs_background": "light"
          }
        }
      ]
    },
    {
      "cell_type": "markdown",
      "metadata": {
        "id": "2NmPPcd-KV73",
        "colab_type": "text"
      },
      "source": [
        "**AGE AND FINAL GRADE**"
      ]
    },
    {
      "cell_type": "code",
      "metadata": {
        "id": "Ahs8G0KWKK-6",
        "colab_type": "code",
        "colab": {
          "base_uri": "https://localhost:8080/",
          "height": 404
        },
        "outputId": "6f50b20c-cb84-45bf-83a8-87036a50cd31"
      },
      "source": [
        "plt.figure(figsize = (14, 6))\n",
        "sns.barplot('age', 'G3', data = grades)\n",
        "plt.title(\"CHART SHOWING HOW AGE AFFECTS FINAL GRADE\")\n",
        "plt.ylabel(\"Final grade\")\n",
        "plt.show()"
      ],
      "execution_count": 44,
      "outputs": [
        {
          "output_type": "display_data",
          "data": {
            "image/png": "[encoded data removed]",
            "text/plain": [
              "<Figure size 1008x432 with 1 Axes>"
            ]
          },
          "metadata": {
            "tags": [],
            "needs_background": "light"
          }
        }
      ]
    },
    {
      "cell_type": "markdown",
      "metadata": {
        "id": "u0XGJGtpK-aF",
        "colab_type": "text"
      },
      "source": [
        "**OBSERVATION**"
      ]
    },
    {
      "cell_type": "markdown",
      "metadata": {
        "id": "icnZkFW5LPMz",
        "colab_type": "text"
      },
      "source": [
        "* The age of the students does not affect their final grade"
      ]
    },
    {
      "cell_type": "markdown",
      "metadata": {
        "id": "r30xIXIbNI5h",
        "colab_type": "text"
      },
      "source": [
        "###STUDENTS' ADDRESS TYPE (address)"
      ]
    },
    {
      "cell_type": "markdown",
      "metadata": {
        "id": "wLrlENMpNnzl",
        "colab_type": "text"
      },
      "source": [
        "**NUMBER OF STUDENTS BY ADDRESS TYPE**"
      ]
    },
    {
      "cell_type": "code",
      "metadata": {
        "id": "bLk8_hwGN9Bu",
        "colab_type": "code",
        "colab": {}
      },
      "source": [
        "grades.replace(to_replace = 'U', value = 'Urban', inplace = True)\n",
        "grades.replace(to_replace = 'R', value = 'Rural', inplace = True)"
      ],
      "execution_count": 15,
      "outputs": []
    },
    {
      "cell_type": "code",
      "metadata": {
        "id": "IZG7H22fK204",
        "colab_type": "code",
        "colab": {
          "base_uri": "https://localhost:8080/",
          "height": 72
        },
        "outputId": "3937ec66-7059-4a17-a6b2-79c2b1e6f556"
      },
      "source": [
        "grades['address'].value_counts()"
      ],
      "execution_count": 16,
      "outputs": [
        {
          "output_type": "execute_result",
          "data": {
            "text/plain": [
              "Urban    307\n",
              "Rural     88\n",
              "Name: address, dtype: int64"
            ]
          },
          "metadata": {
            "tags": []
          },
          "execution_count": 16
        }
      ]
    },
    {
      "cell_type": "markdown",
      "metadata": {
        "id": "JvT0RphEN3SM",
        "colab_type": "text"
      },
      "source": [
        "* Majority of the studnets live in the urban area (307)"
      ]
    },
    {
      "cell_type": "code",
      "metadata": {
        "id": "L6Xg202sN0y3",
        "colab_type": "code",
        "colab": {
          "base_uri": "https://localhost:8080/",
          "height": 295
        },
        "outputId": "6c051fd4-57c4-4f51-e931-8c651a82713d"
      },
      "source": [
        "sns.countplot('address', data = grades)\n",
        "plt.title(\"CHART SHOWING THE NUMBER OF STUDENTS BY ADDRESS TYPE\")\n",
        "plt.xlabel(\"Address type\")\n",
        "plt.ylabel(\"Number of students\")\n",
        "plt.show()"
      ],
      "execution_count": 17,
      "outputs": [
        {
          "output_type": "display_data",
          "data": {
            "image/png": "[encoded data removed]",
            "text/plain": [
              "<Figure size 432x288 with 1 Axes>"
            ]
          },
          "metadata": {
            "tags": [],
            "needs_background": "light"
          }
        }
      ]
    },
    {
      "cell_type": "markdown",
      "metadata": {
        "id": "1-s2gkqXQm5V",
        "colab_type": "text"
      },
      "source": [
        "**ADDRESS TYPE AND FINAL GRADE**"
      ]
    },
    {
      "cell_type": "code",
      "metadata": {
        "id": "y19P4YTYQiEU",
        "colab_type": "code",
        "colab": {
          "base_uri": "https://localhost:8080/",
          "height": 404
        },
        "outputId": "841c41b7-4bde-48a1-9892-c8dd035d4d5a"
      },
      "source": [
        "plt.figure(figsize = (14, 6))\n",
        "sns.boxplot('G3', 'address', data = grades)\n",
        "plt.title(\"CHART SHOWING HOW ADDRESS TYPE AFFECTS THE GRADE OF STUDENTS\")\n",
        "plt.xlabel(\"Final grade\")\n",
        "plt.ylabel(\"Address type\")\n",
        "plt.show()"
      ],
      "execution_count": 18,
      "outputs": [
        {
          "output_type": "display_data",
          "data": {
            "image/png": "[encoded data removed]",
            "text/plain": [
              "<Figure size 1008x432 with 1 Axes>"
            ]
          },
          "metadata": {
            "tags": [],
            "needs_background": "light"
          }
        }
      ]
    },
    {
      "cell_type": "markdown",
      "metadata": {
        "id": "mMDb6LXgSauB",
        "colab_type": "text"
      },
      "source": [
        "**OBSERVATION**\n",
        "\n",
        "* The address type affects the students' final grade to an extent\n",
        "* Generally, students who lived in urban areas have better grades "
      ]
    },
    {
      "cell_type": "markdown",
      "metadata": {
        "id": "pqqrGbvsS2Ie",
        "colab_type": "text"
      },
      "source": [
        "###FAMILY SIZE (famsize)"
      ]
    },
    {
      "cell_type": "markdown",
      "metadata": {
        "id": "k3rVJFlwTLh5",
        "colab_type": "text"
      },
      "source": [
        "**NUMBER OF STUDENTS BY FAMILY SIZE**"
      ]
    },
    {
      "cell_type": "code",
      "metadata": {
        "id": "D4heF6WGTcpz",
        "colab_type": "code",
        "colab": {}
      },
      "source": [
        "grades.replace(to_replace = 'GT3', value = 'Greater than 3', inplace = True)\n",
        "grades.replace(to_replace = 'LE3', value = 'Less than 3', inplace = True)"
      ],
      "execution_count": 19,
      "outputs": []
    },
    {
      "cell_type": "code",
      "metadata": {
        "id": "ao1z2be5RyaY",
        "colab_type": "code",
        "colab": {
          "base_uri": "https://localhost:8080/",
          "height": 72
        },
        "outputId": "90fd05df-a8ae-493e-ae3e-e45853660308"
      },
      "source": [
        "grades['famsize'].value_counts()"
      ],
      "execution_count": 20,
      "outputs": [
        {
          "output_type": "execute_result",
          "data": {
            "text/plain": [
              "Greater than 3    281\n",
              "Less than 3       114\n",
              "Name: famsize, dtype: int64"
            ]
          },
          "metadata": {
            "tags": []
          },
          "execution_count": 20
        }
      ]
    },
    {
      "cell_type": "markdown",
      "metadata": {
        "id": "1H1z395gT1Uq",
        "colab_type": "text"
      },
      "source": [
        "* Most of the students have families that are greater than 3"
      ]
    },
    {
      "cell_type": "code",
      "metadata": {
        "id": "N9DYuY8FTa5U",
        "colab_type": "code",
        "colab": {
          "base_uri": "https://localhost:8080/",
          "height": 295
        },
        "outputId": "799f1881-f62a-4b11-ebe9-ae3cdfe921f5"
      },
      "source": [
        "sns.countplot('famsize', data = grades)\n",
        "plt.title(\"CHART SHOWING THE NUMBER OF STUDENTS BY FAMILY SIZE\")\n",
        "plt.xlabel(\"Family size\")\n",
        "plt.ylabel(\"Number of students\")\n",
        "plt.show()"
      ],
      "execution_count": 21,
      "outputs": [
        {
          "output_type": "display_data",
          "data": {
            "image/png": "[encoded data removed]",
            "text/plain": [
              "<Figure size 432x288 with 1 Axes>"
            ]
          },
          "metadata": {
            "tags": [],
            "needs_background": "light"
          }
        }
      ]
    },
    {
      "cell_type": "markdown",
      "metadata": {
        "id": "7BHWg7idVIJU",
        "colab_type": "text"
      },
      "source": [
        "**FAMILY SIZE AND FINAL GRADE**"
      ]
    },
    {
      "cell_type": "code",
      "metadata": {
        "id": "FGdfOgXdVGoF",
        "colab_type": "code",
        "colab": {
          "base_uri": "https://localhost:8080/",
          "height": 404
        },
        "outputId": "b5b841ea-ac8d-48a2-f558-a962fece2ee1"
      },
      "source": [
        "plt.figure(figsize = (14, 6))\n",
        "sns.boxplot('G3', 'famsize', data = grades)\n",
        "plt.title(\"CHART SHOWING HOW FAMILY SIZE AFFECTS GRADE\")\n",
        "plt.xlabel(\"Final grade\")\n",
        "plt.ylabel(\"Family size\")\n",
        "plt.show()"
      ],
      "execution_count": 22,
      "outputs": [
        {
          "output_type": "display_data",
          "data": {
            "image/png": "[encoded data removed]",
            "text/plain": [
              "<Figure size 1008x432 with 1 Axes>"
            ]
          },
          "metadata": {
            "tags": [],
            "needs_background": "light"
          }
        }
      ]
    },
    {
      "cell_type": "markdown",
      "metadata": {
        "id": "ZPn65OhDWeVK",
        "colab_type": "text"
      },
      "source": [
        "* The family size of the students does not affect the final grade of the students"
      ]
    },
    {
      "cell_type": "markdown",
      "metadata": {
        "id": "Qm2pGxoyaiBq",
        "colab_type": "text"
      },
      "source": [
        "###PARENTS COHABITATION STATUS (Pstatus)"
      ]
    },
    {
      "cell_type": "markdown",
      "metadata": {
        "id": "lBCpmVl3asfm",
        "colab_type": "text"
      },
      "source": [
        "**NUMBER OF STUDENTS BY PARENTS COHABITATION STATUS**"
      ]
    },
    {
      "cell_type": "code",
      "metadata": {
        "id": "37-x0BfHh4mP",
        "colab_type": "code",
        "colab": {}
      },
      "source": [
        "grades.replace(to_replace = 'T', value = 'Living together', inplace = True)\n",
        "grades.replace(to_replace = 'A', value = 'Apart', inplace = True)"
      ],
      "execution_count": 23,
      "outputs": []
    },
    {
      "cell_type": "code",
      "metadata": {
        "id": "gl1-kxpEWLzV",
        "colab_type": "code",
        "colab": {
          "base_uri": "https://localhost:8080/",
          "height": 72
        },
        "outputId": "b7f58eb3-0613-49c2-ea42-9fa950cc72a3"
      },
      "source": [
        "grades['Pstatus'].value_counts()"
      ],
      "execution_count": 24,
      "outputs": [
        {
          "output_type": "execute_result",
          "data": {
            "text/plain": [
              "Living together    354\n",
              "Apart               41\n",
              "Name: Pstatus, dtype: int64"
            ]
          },
          "metadata": {
            "tags": []
          },
          "execution_count": 24
        }
      ]
    },
    {
      "cell_type": "markdown",
      "metadata": {
        "id": "mRUSvsGljwqt",
        "colab_type": "text"
      },
      "source": [
        "* Majority of the students have their parents living together "
      ]
    },
    {
      "cell_type": "code",
      "metadata": {
        "id": "-H-7IS8Ph2H2",
        "colab_type": "code",
        "colab": {
          "base_uri": "https://localhost:8080/",
          "height": 295
        },
        "outputId": "c97bc88e-cb60-4646-e2c9-37bc0f10e94f"
      },
      "source": [
        "sns.countplot('Pstatus', data = grades)\n",
        "plt.title(\"CHART SHOWING NUMBER OF STUDENTS BY PARENTS COHABITATION STATUS\")\n",
        "plt.xlabel(\"Parents Cohanilitation status\")\n",
        "plt.ylabel(\"Number of students\")\n",
        "plt.show()"
      ],
      "execution_count": 25,
      "outputs": [
        {
          "output_type": "display_data",
          "data": {
            "image/png": "[encoded data removed]",
            "text/plain": [
              "<Figure size 432x288 with 1 Axes>"
            ]
          },
          "metadata": {
            "tags": [],
            "needs_background": "light"
          }
        }
      ]
    },
    {
      "cell_type": "markdown",
      "metadata": {
        "id": "9U9JsjBokgf6",
        "colab_type": "text"
      },
      "source": [
        "**PARENTS COHABILITATION STATUS AND FINAL GRADE**"
      ]
    },
    {
      "cell_type": "code",
      "metadata": {
        "id": "Te5GRpNMkeNU",
        "colab_type": "code",
        "colab": {
          "base_uri": "https://localhost:8080/",
          "height": 404
        },
        "outputId": "865e25e5-1888-4db6-8474-6daedde66919"
      },
      "source": [
        "plt.figure(figsize = (14, 6))\n",
        "sns.boxplot('G3', 'Pstatus', data = grades)\n",
        "plt.title(\"CHART SHOWING HOW PARENTS COHABILITATION STATUS AFFECTS FINAL GRADE\")\n",
        "plt.xlabel('Final grade')\n",
        "plt.ylabel(\"Parents' Cohabilitation status\")\n",
        "plt.show()"
      ],
      "execution_count": 26,
      "outputs": [
        {
          "output_type": "display_data",
          "data": {
            "image/png": "[encoded data removed]",
            "text/plain": [
              "<Figure size 1008x432 with 1 Axes>"
            ]
          },
          "metadata": {
            "tags": [],
            "needs_background": "light"
          }
        }
      ]
    },
    {
      "cell_type": "markdown",
      "metadata": {
        "id": "2vVC4n5tlMVT",
        "colab_type": "text"
      },
      "source": [
        "**OBSERVATION**\n",
        "\n",
        "* Parents' cohabilitation status does not affect the final grade of the students "
      ]
    },
    {
      "cell_type": "markdown",
      "metadata": {
        "id": "mnbkDJOPlaEI",
        "colab_type": "text"
      },
      "source": [
        "###MOTHER'S EDUCATION (Medu) AND FATHHER'S EDUCATION (Fedu)"
      ]
    },
    {
      "cell_type": "markdown",
      "metadata": {
        "id": "ithOO-ZhlxnU",
        "colab_type": "text"
      },
      "source": [
        "**NUMBER OF STUDENTS BY MOTHER'S EDUCATION**"
      ]
    },
    {
      "cell_type": "code",
      "metadata": {
        "id": "Yb-9Trg1lGZw",
        "colab_type": "code",
        "colab": {
          "base_uri": "https://localhost:8080/",
          "height": 404
        },
        "outputId": "b671aa2c-3a82-4c1c-d445-9ad4cdb2763d"
      },
      "source": [
        "plt.figure(figsize = (8, 6))\n",
        "sns.countplot('Medu', data = grades)\n",
        "plt.title(\"CHART SHOWING THE NUMBER OF STUDENTS BY MOTHER'S EDUCATION\")\n",
        "plt.xlabel(\"Mother's level of  education \")\n",
        "plt.ylabel(\"Number of students\")\n",
        "plt.show()"
      ],
      "execution_count": 27,
      "outputs": [
        {
          "output_type": "display_data",
          "data": {
            "image/png": "[encoded data removed]",
            "text/plain": [
              "<Figure size 576x432 with 1 Axes>"
            ]
          },
          "metadata": {
            "tags": [],
            "needs_background": "light"
          }
        }
      ]
    },
    {
      "cell_type": "markdown",
      "metadata": {
        "id": "O1_3ODJM50O3",
        "colab_type": "text"
      },
      "source": [
        "* Most students have very educated mothers "
      ]
    },
    {
      "cell_type": "markdown",
      "metadata": {
        "id": "f8xMYvaz5UOy",
        "colab_type": "text"
      },
      "source": [
        "**NUMBER OF STUDENTS BY FATHER'S EDUCATION**"
      ]
    },
    {
      "cell_type": "code",
      "metadata": {
        "id": "g_8ln7455V5A",
        "colab_type": "code",
        "colab": {
          "base_uri": "https://localhost:8080/",
          "height": 404
        },
        "outputId": "d145afc2-dbb2-4c9d-cdf9-3cf88724111b"
      },
      "source": [
        "plt.figure(figsize = (8, 6))\n",
        "sns.countplot('Fedu', data = grades)\n",
        "plt.title(\"CHART SHOWING NUMBER F STUDENTS BY FATHER'S EDUCATION\")\n",
        "plt.xlabel(\"Fahter's education lwvwl\")\n",
        "plt.ylabel(\"Number of students\")\n",
        "plt.show()"
      ],
      "execution_count": 28,
      "outputs": [
        {
          "output_type": "display_data",
          "data": {
            "image/png": "[encoded data removed]",
            "text/plain": [
              "<Figure size 576x432 with 1 Axes>"
            ]
          },
          "metadata": {
            "tags": [],
            "needs_background": "light"
          }
        }
      ]
    },
    {
      "cell_type": "markdown",
      "metadata": {
        "id": "1hOhmhMRm5RS",
        "colab_type": "text"
      },
      "source": [
        "**MOTHER'S EDUCATION AND FINAL GRADE**"
      ]
    },
    {
      "cell_type": "code",
      "metadata": {
        "id": "gn_dJ2Remogd",
        "colab_type": "code",
        "colab": {
          "base_uri": "https://localhost:8080/",
          "height": 404
        },
        "outputId": "67688e06-2145-4805-fedf-961fead66f00"
      },
      "source": [
        "plt.figure(figsize = (8, 6))\n",
        "sns.barplot('Medu', 'G3', data = grades)\n",
        "plt.title(\"CHART SHOWING HOW MOTHER'S EDUCATION AFFECTS FINAL GRADE\")\n",
        "plt.xlabel(\"Mother's education level\")\n",
        "plt.ylabel(\"FInal grade\")\n",
        "plt.show()"
      ],
      "execution_count": 29,
      "outputs": [
        {
          "output_type": "display_data",
          "data": {
            "image/png": "[encoded data removed]",
            "text/plain": [
              "<Figure size 576x432 with 1 Axes>"
            ]
          },
          "metadata": {
            "tags": [],
            "needs_background": "light"
          }
        }
      ]
    },
    {
      "cell_type": "markdown",
      "metadata": {
        "id": "uj7vN4LmqfkB",
        "colab_type": "text"
      },
      "source": [
        "* Vast majority of the students have educated fathers"
      ]
    },
    {
      "cell_type": "markdown",
      "metadata": {
        "id": "eBtwRH9kqpq7",
        "colab_type": "text"
      },
      "source": [
        "**FATHER'S EDUCATION AND FINAL GRADE**"
      ]
    },
    {
      "cell_type": "code",
      "metadata": {
        "id": "3RrF_RhgqcQ2",
        "colab_type": "code",
        "colab": {
          "base_uri": "https://localhost:8080/",
          "height": 404
        },
        "outputId": "d3216d63-07f9-4565-94b4-ee13eec2716f"
      },
      "source": [
        "plt.figure(figsize = (8, 6))\n",
        "sns.barplot('Fedu', 'G3', data = grades)\n",
        "plt.title(\"CHART SHOWING HOW FATHER'S EDUCATION AFFECTS FINAL GRADE OF STUDENTS\")\n",
        "plt.xlabel(\"Father's education\")\n",
        "plt.ylabel(\"Final grade\")\n",
        "plt.show()"
      ],
      "execution_count": 30,
      "outputs": [
        {
          "output_type": "display_data",
          "data": {
            "image/png": "[encoded data removed]",
            "text/plain": [
              "<Figure size 576x432 with 1 Axes>"
            ]
          },
          "metadata": {
            "tags": [],
            "needs_background": "light"
          }
        }
      ]
    },
    {
      "cell_type": "markdown",
      "metadata": {
        "id": "uKpmoE6DrLhv",
        "colab_type": "text"
      },
      "source": [
        "**OBSERVATION**\n",
        "\n",
        "* Father's education does not affect the final grade of students\n",
        "* Mother's education does not affect the final grade of students"
      ]
    },
    {
      "cell_type": "markdown",
      "metadata": {
        "id": "ONxKdWYmrXkJ",
        "colab_type": "text"
      },
      "source": [
        "###MOTHER'S JOB (Mjob) AND FATHER'S JOB (Fjob)"
      ]
    },
    {
      "cell_type": "markdown",
      "metadata": {
        "id": "MKHyg2CU6NQ3",
        "colab_type": "text"
      },
      "source": [
        "**NUMBER OF STUDENTS BY MOTHER'S AND FATHER'S JOB**"
      ]
    },
    {
      "cell_type": "code",
      "metadata": {
        "id": "GTwn2XcbrJkk",
        "colab_type": "code",
        "colab": {
          "base_uri": "https://localhost:8080/",
          "height": 405
        },
        "outputId": "aeaa7892-7814-4afb-8e5e-b7c226950c97"
      },
      "source": [
        "plt.figure(figsize = (10, 6))\n",
        "sns.countplot('Mjob', data = grades)\n",
        "plt.title(\"CHART SHOWING NUMBER OF STUDENTS BY MOTHER'S JOB\")\n",
        "plt.xlabel(\"Mother's job\")\n",
        "plt.ylabel(\"Number of students\")\n",
        "plt.show()"
      ],
      "execution_count": 31,
      "outputs": [
        {
          "output_type": "display_data",
          "data": {
            "image/png": "[encoded data removed]",
            "text/plain": [
              "<Figure size 720x432 with 1 Axes>"
            ]
          },
          "metadata": {
            "tags": [],
            "needs_background": "light"
          }
        }
      ]
    },
    {
      "cell_type": "code",
      "metadata": {
        "id": "TEFfwYTR4oMU",
        "colab_type": "code",
        "colab": {
          "base_uri": "https://localhost:8080/",
          "height": 405
        },
        "outputId": "c49e8c87-8b9e-49bc-c52c-87c498937f7f"
      },
      "source": [
        "plt.figure(figsize = (10, 6))\n",
        "sns.countplot('Fjob', data = grades)\n",
        "plt.title(\"CHART SHOWING NUMBER OF STUDENTS BY FATHER'S JOB\")\n",
        "plt.xlabel(\"Father's job\")\n",
        "plt.ylabel(\"Number of students\")\n",
        "plt.show()"
      ],
      "execution_count": 32,
      "outputs": [
        {
          "output_type": "display_data",
          "data": {
            "image/png": "[encoded data removed]",
            "text/plain": [
              "<Figure size 720x432 with 1 Axes>"
            ]
          },
          "metadata": {
            "tags": [],
            "needs_background": "light"
          }
        }
      ]
    },
    {
      "cell_type": "markdown",
      "metadata": {
        "id": "00Jofn2D9D--",
        "colab_type": "text"
      },
      "source": [
        "* In the above diagram, the distibution of parents jobs can be seen"
      ]
    },
    {
      "cell_type": "markdown",
      "metadata": {
        "id": "A3SoCQDK9dlV",
        "colab_type": "text"
      },
      "source": [
        "**MOTHER'S JOB AND FINAL GRADE**"
      ]
    },
    {
      "cell_type": "code",
      "metadata": {
        "id": "i1PNgNgM8JSN",
        "colab_type": "code",
        "colab": {
          "base_uri": "https://localhost:8080/",
          "height": 404
        },
        "outputId": "b2f45302-2d5b-4d1c-bda8-718ee694660b"
      },
      "source": [
        "plt.figure(figsize = (14, 6))\n",
        "sns.barplot('G3', 'Mjob', data = grades)\n",
        "plt.title(\"CHART SHOWING HOW MOTHER'S JOB AFFECT FINAL GRADE\")\n",
        "plt.xlabel(\"Final grade\")\n",
        "plt.ylabel(\"Mother's job\")\n",
        "plt.show()"
      ],
      "execution_count": 33,
      "outputs": [
        {
          "output_type": "display_data",
          "data": {
            "image/png": "[encoded data removed]",
            "text/plain": [
              "<Figure size 1008x432 with 1 Axes>"
            ]
          },
          "metadata": {
            "tags": [],
            "needs_background": "light"
          }
        }
      ]
    },
    {
      "cell_type": "code",
      "metadata": {
        "id": "f9bm919R-MK6",
        "colab_type": "code",
        "colab": {
          "base_uri": "https://localhost:8080/",
          "height": 404
        },
        "outputId": "44bc1089-ca22-4377-eaf1-a248c71d48e1"
      },
      "source": [
        "plt.figure(figsize = (14, 6))\n",
        "sns.barplot('G3', 'Fjob', data = grades)\n",
        "plt.title(\"CHART SHOWING HOW FATHER'S JOB AFFECT FINAL GRADE\")\n",
        "plt.xlabel(\"Final grade\")\n",
        "plt.ylabel(\"Father's job\")\n",
        "plt.show()"
      ],
      "execution_count": 34,
      "outputs": [
        {
          "output_type": "display_data",
          "data": {
            "image/png": "[encoded data removed]",
            "text/plain": [
              "<Figure size 1008x432 with 1 Axes>"
            ]
          },
          "metadata": {
            "tags": [],
            "needs_background": "light"
          }
        }
      ]
    },
    {
      "cell_type": "markdown",
      "metadata": {
        "id": "luwj1M6b1FNE",
        "colab_type": "text"
      },
      "source": [
        "**OBSERVATION**\n",
        "\n",
        "* Father's job does not affect final grade of students\n",
        "* Mother's job does not affect the final grade of students"
      ]
    },
    {
      "cell_type": "markdown",
      "metadata": {
        "id": "t5KvRC2k5Ufh",
        "colab_type": "text"
      },
      "source": [
        "###REASON TO CHOOSE THE SCHOOL (reason)"
      ]
    },
    {
      "cell_type": "code",
      "metadata": {
        "id": "BqX9eMec58IA",
        "colab_type": "code",
        "colab": {}
      },
      "source": [
        "grades['reason'].replace(to_replace = 'home', value = 'Close to home', inplace = True)\n",
        "grades['reason'].replace(to_replace = 'course', value = 'Course preference', inplace = True)\n",
        "grades['reason'].replace(to_replace = 'reputation', value = 'School reputation', inplace = True)"
      ],
      "execution_count": 35,
      "outputs": []
    },
    {
      "cell_type": "markdown",
      "metadata": {
        "id": "SG7Zvl4Q7GE-",
        "colab_type": "text"
      },
      "source": [
        "**NUMBER OF STUDENT BY REASON FOR CHOOSING SCHOOL**"
      ]
    },
    {
      "cell_type": "code",
      "metadata": {
        "id": "j_qgbedk1BvO",
        "colab_type": "code",
        "colab": {
          "base_uri": "https://localhost:8080/",
          "height": 108
        },
        "outputId": "eed7a114-66b3-449c-997f-279c425921b9"
      },
      "source": [
        "grades['reason'].value_counts()"
      ],
      "execution_count": 36,
      "outputs": [
        {
          "output_type": "execute_result",
          "data": {
            "text/plain": [
              "Course preference    145\n",
              "Close to home        109\n",
              "School reputation    105\n",
              "other                 36\n",
              "Name: reason, dtype: int64"
            ]
          },
          "metadata": {
            "tags": []
          },
          "execution_count": 36
        }
      ]
    },
    {
      "cell_type": "code",
      "metadata": {
        "id": "SJwT4rWP5rm7",
        "colab_type": "code",
        "colab": {
          "base_uri": "https://localhost:8080/",
          "height": 295
        },
        "outputId": "932c501e-bd73-423c-b6de-ae5a168b651e"
      },
      "source": [
        "sns.countplot('reason', data = grades)\n",
        "plt.title(\"CHART SHOWING NUMBER OF STUDENTS BY REASON FOR CHOOSING SCHOOL\")\n",
        "plt.xlabel(\"Reason for choosing school\")\n",
        "plt.ylabel(\"Number of people\")\n",
        "plt.show()"
      ],
      "execution_count": 37,
      "outputs": [
        {
          "output_type": "display_data",
          "data": {
            "image/png": "[encoded data removed]",
            "text/plain": [
              "<Figure size 432x288 with 1 Axes>"
            ]
          },
          "metadata": {
            "tags": [],
            "needs_background": "light"
          }
        }
      ]
    },
    {
      "cell_type": "markdown",
      "metadata": {
        "id": "fwC5ROxX7kAI",
        "colab_type": "text"
      },
      "source": [
        "**REASON FOR CHOOSING SCHOOL AND FINAL GRADE**"
      ]
    },
    {
      "cell_type": "code",
      "metadata": {
        "id": "8WcmC-7L7YKR",
        "colab_type": "code",
        "colab": {
          "base_uri": "https://localhost:8080/",
          "height": 295
        },
        "outputId": "0c6933d3-e4c3-4253-a208-c3db15d36aec"
      },
      "source": [
        "sns.barplot('reason', 'G3', data = grades)\n",
        "plt.title(\"CHART SHOWING HOW REASON FOR CHOOSING SCHOOL AFFECTS FINAL GRADE\")\n",
        "plt.xlabel(\"Reaon for choosing school\")\n",
        "plt.ylabel(\"Final grade\")\n",
        "plt.show()"
      ],
      "execution_count": 38,
      "outputs": [
        {
          "output_type": "display_data",
          "data": {
            "image/png": "[encoded data removed]",
            "text/plain": [
              "<Figure size 432x288 with 1 Axes>"
            ]
          },
          "metadata": {
            "tags": [],
            "needs_background": "light"
          }
        }
      ]
    },
    {
      "cell_type": "markdown",
      "metadata": {
        "id": "K2NxBuyT8La2",
        "colab_type": "text"
      },
      "source": [
        "**OBSERVARTION**"
      ]
    },
    {
      "cell_type": "markdown",
      "metadata": {
        "id": "S4v0xLTh8QHu",
        "colab_type": "text"
      },
      "source": [
        "* Reson for choosing school does not affect the final grade "
      ]
    },
    {
      "cell_type": "markdown",
      "metadata": {
        "id": "L2wZx_vF8WeC",
        "colab_type": "text"
      },
      "source": [
        "###GUARDIAN (guardian)"
      ]
    },
    {
      "cell_type": "markdown",
      "metadata": {
        "id": "2z6TCFOF81Lc",
        "colab_type": "text"
      },
      "source": [
        "**HOW GUARDIAN TYPE AFFECTS FINAL GRADES**"
      ]
    },
    {
      "cell_type": "code",
      "metadata": {
        "id": "UOtm1WN08Il4",
        "colab_type": "code",
        "colab": {
          "base_uri": "https://localhost:8080/",
          "height": 90
        },
        "outputId": "7e84f80b-fcd0-479d-84fe-13d5bc00f49e"
      },
      "source": [
        "grades['guardian'].value_counts()"
      ],
      "execution_count": 39,
      "outputs": [
        {
          "output_type": "execute_result",
          "data": {
            "text/plain": [
              "mother    273\n",
              "father     90\n",
              "other      32\n",
              "Name: guardian, dtype: int64"
            ]
          },
          "metadata": {
            "tags": []
          },
          "execution_count": 39
        }
      ]
    },
    {
      "cell_type": "code",
      "metadata": {
        "id": "VlXHTAR-9OR9",
        "colab_type": "code",
        "colab": {
          "base_uri": "https://localhost:8080/",
          "height": 404
        },
        "outputId": "ed373b22-8654-4670-d779-ac007debeb58"
      },
      "source": [
        "plt.figure(figsize = (14, 6))\n",
        "sns.boxplot('G3', 'guardian', data = grades)\n",
        "plt.title(\"CHART SHOWING HOW GUARDIAN TYPE AFFECTS FINAL GRADE\")\n",
        "plt.xlabel(\"Final grade\")\n",
        "plt.ylabel(\"Guardian type\")\n",
        "plt.show()"
      ],
      "execution_count": 40,
      "outputs": [
        {
          "output_type": "display_data",
          "data": {
            "image/png": "[encoded data removed]",
            "text/plain": [
              "<Figure size 1008x432 with 1 Axes>"
            ]
          },
          "metadata": {
            "tags": [],
            "needs_background": "light"
          }
        }
      ]
    },
    {
      "cell_type": "markdown",
      "metadata": {
        "id": "dbM6eW4_-ghn",
        "colab_type": "text"
      },
      "source": [
        "* Guardian type does not affect the final grade of students"
      ]
    },
    {
      "cell_type": "markdown",
      "metadata": {
        "id": "tCD-meb7-mlb",
        "colab_type": "text"
      },
      "source": [
        "###HOME TO SCHOOL TRAVEL TIME (traveltime)"
      ]
    },
    {
      "cell_type": "markdown",
      "metadata": {
        "id": "pb01JhBm-v55",
        "colab_type": "text"
      },
      "source": [
        "**HOW TRAVEL TIME AFFECTS FINAL GRADE**"
      ]
    },
    {
      "cell_type": "code",
      "metadata": {
        "id": "PC9la1xK-3mC",
        "colab_type": "code",
        "colab": {
          "base_uri": "https://localhost:8080/",
          "height": 108
        },
        "outputId": "997ef34e-5cca-4d6d-a815-76545a83dc81"
      },
      "source": [
        "grades['traveltime'].value_counts()"
      ],
      "execution_count": 41,
      "outputs": [
        {
          "output_type": "execute_result",
          "data": {
            "text/plain": [
              "1    257\n",
              "2    107\n",
              "3     23\n",
              "4      8\n",
              "Name: traveltime, dtype: int64"
            ]
          },
          "metadata": {
            "tags": []
          },
          "execution_count": 41
        }
      ]
    },
    {
      "cell_type": "code",
      "metadata": {
        "id": "eGv3f36v-7hy",
        "colab_type": "code",
        "colab": {
          "base_uri": "https://localhost:8080/",
          "height": 295
        },
        "outputId": "150348fb-471e-4526-e684-914b6e6b1277"
      },
      "source": [
        "sns.barplot('traveltime', 'G3', data = grades)\n",
        "plt.title(\"CHART SHOWING HOW TRAVEL TIME AFFECTS FINAL GRADE\")\n",
        "plt.xlabel(\"Travel time\")\n",
        "plt.ylabel(\"Final grade\")\n",
        "plt.show()"
      ],
      "execution_count": 42,
      "outputs": [
        {
          "output_type": "display_data",
          "data": {
            "image/png": "[encoded data removed]",
            "text/plain": [
              "<Figure size 432x288 with 1 Axes>"
            ]
          },
          "metadata": {
            "tags": [],
            "needs_background": "light"
          }
        }
      ]
    },
    {
      "cell_type": "markdown",
      "metadata": {
        "id": "l4qknhW0_pE9",
        "colab_type": "text"
      },
      "source": [
        "* Travel time does not affect the final grades of students much"
      ]
    },
    {
      "cell_type": "markdown",
      "metadata": {
        "id": "4tTA4SGhBIqt",
        "colab_type": "text"
      },
      "source": [
        "###STUDY TIME (studytime)"
      ]
    },
    {
      "cell_type": "markdown",
      "metadata": {
        "id": "ZkiGV-yIB7gf",
        "colab_type": "text"
      },
      "source": [
        "**HOW STUDY TIME AFFECTS FINAL GRADES**"
      ]
    },
    {
      "cell_type": "code",
      "metadata": {
        "id": "GcUsD93J_a9Y",
        "colab_type": "code",
        "colab": {
          "base_uri": "https://localhost:8080/",
          "height": 35
        },
        "outputId": "6c24126c-bb28-44a2-ae26-ec300053e4ba"
      },
      "source": [
        "grades['studytime'].unique()"
      ],
      "execution_count": 45,
      "outputs": [
        {
          "output_type": "execute_result",
          "data": {
            "text/plain": [
              "array([2, 3, 1, 4])"
            ]
          },
          "metadata": {
            "tags": []
          },
          "execution_count": 45
        }
      ]
    },
    {
      "cell_type": "code",
      "metadata": {
        "id": "LpH37FP7iARI",
        "colab_type": "code",
        "colab": {
          "base_uri": "https://localhost:8080/",
          "height": 108
        },
        "outputId": "a3f16f57-2196-48b0-9aec-5071ccd5e406"
      },
      "source": [
        "grades['studytime'].value_counts()"
      ],
      "execution_count": 46,
      "outputs": [
        {
          "output_type": "execute_result",
          "data": {
            "text/plain": [
              "2    198\n",
              "1    105\n",
              "3     65\n",
              "4     27\n",
              "Name: studytime, dtype: int64"
            ]
          },
          "metadata": {
            "tags": []
          },
          "execution_count": 46
        }
      ]
    },
    {
      "cell_type": "markdown",
      "metadata": {
        "id": "KAPTlHWqipVl",
        "colab_type": "text"
      },
      "source": [
        "* Most of the students study for 2 hours"
      ]
    },
    {
      "cell_type": "code",
      "metadata": {
        "id": "8X4k-n3iiQYe",
        "colab_type": "code",
        "colab": {
          "base_uri": "https://localhost:8080/",
          "height": 295
        },
        "outputId": "94ca5227-d575-4b66-9bf5-4c34a274eefb"
      },
      "source": [
        "sns.barplot('studytime', 'G3', data = grades)\n",
        "plt.title('CHART SHOWING HOW STUDY TIME AFFECTS FINAL GRADES')\n",
        "plt.xlabel(\"Study time\")\n",
        "plt.ylabel(\"Final grade\")\n",
        "plt.show()"
      ],
      "execution_count": 50,
      "outputs": [
        {
          "output_type": "display_data",
          "data": {
            "image/png": "[encoded data removed]",
            "text/plain": [
              "<Figure size 432x288 with 1 Axes>"
            ]
          },
          "metadata": {
            "tags": [],
            "needs_background": "light"
          }
        }
      ]
    },
    {
      "cell_type": "markdown",
      "metadata": {
        "id": "-LpcUyFmjbmY",
        "colab_type": "text"
      },
      "source": [
        "**OBSERVATION**"
      ]
    },
    {
      "cell_type": "markdown",
      "metadata": {
        "id": "8QsnqVR1j1t9",
        "colab_type": "text"
      },
      "source": [
        "* Study time does not affect final grades"
      ]
    },
    {
      "cell_type": "markdown",
      "metadata": {
        "id": "NHPLrGoBj9Ab",
        "colab_type": "text"
      },
      "source": [
        "###NUMBER OF PAST CLASS FAILURES (failures)"
      ]
    },
    {
      "cell_type": "markdown",
      "metadata": {
        "id": "bs5e9TsUkWm2",
        "colab_type": "text"
      },
      "source": [
        "**HOW PAST FAILURES AFFECT FINAL GRADES**"
      ]
    },
    {
      "cell_type": "code",
      "metadata": {
        "id": "waX_OG6hjMVP",
        "colab_type": "code",
        "colab": {
          "base_uri": "https://localhost:8080/",
          "height": 108
        },
        "outputId": "9c7c8c97-5c54-4608-8401-91c1fd12fcdf"
      },
      "source": [
        "grades['failures'].value_counts()"
      ],
      "execution_count": 51,
      "outputs": [
        {
          "output_type": "execute_result",
          "data": {
            "text/plain": [
              "0    312\n",
              "1     50\n",
              "2     17\n",
              "3     16\n",
              "Name: failures, dtype: int64"
            ]
          },
          "metadata": {
            "tags": []
          },
          "execution_count": 51
        }
      ]
    },
    {
      "cell_type": "markdown",
      "metadata": {
        "id": "NtpHBRV-kmLt",
        "colab_type": "text"
      },
      "source": [
        "* Most of the students have never failed "
      ]
    },
    {
      "cell_type": "code",
      "metadata": {
        "id": "pGw5PxHQkjdk",
        "colab_type": "code",
        "colab": {
          "base_uri": "https://localhost:8080/",
          "height": 295
        },
        "outputId": "65059172-337a-4c81-e202-f21308f4000e"
      },
      "source": [
        "sns.barplot('failures', 'G3', data = grades)\n",
        "plt.title(\"CHART SHOWING HOW FAILURES AFFECTS FINAL GRADE\")\n",
        "plt.ylabel(\"Final grade\")\n",
        "plt.show()"
      ],
      "execution_count": 54,
      "outputs": [
        {
          "output_type": "display_data",
          "data": {
            "image/png": "[encoded data removed]",
            "text/plain": [
              "<Figure size 432x288 with 1 Axes>"
            ]
          },
          "metadata": {
            "tags": [],
            "needs_background": "light"
          }
        }
      ]
    },
    {
      "cell_type": "markdown",
      "metadata": {
        "id": "IA58Tv6-lUnx",
        "colab_type": "text"
      },
      "source": [
        "* Students who never failed have better final grades "
      ]
    },
    {
      "cell_type": "markdown",
      "metadata": {
        "id": "H9vpUhnUlcap",
        "colab_type": "text"
      },
      "source": [
        "**OBSERVATION**\n",
        "\n",
        "* Number of past failures affect the final grades of students "
      ]
    },
    {
      "cell_type": "markdown",
      "metadata": {
        "id": "zcfhW6Xklj_P",
        "colab_type": "text"
      },
      "source": [
        "###EXTRA EDUCATIONAL SUPPORT (schoolsup)"
      ]
    },
    {
      "cell_type": "code",
      "metadata": {
        "id": "qKLENnWUlFha",
        "colab_type": "code",
        "colab": {
          "base_uri": "https://localhost:8080/",
          "height": 72
        },
        "outputId": "46533d5d-a211-49a6-e6dd-ce6d6dd993ec"
      },
      "source": [
        "grades['schoolsup'].value_counts()"
      ],
      "execution_count": 55,
      "outputs": [
        {
          "output_type": "execute_result",
          "data": {
            "text/plain": [
              "no     344\n",
              "yes     51\n",
              "Name: schoolsup, dtype: int64"
            ]
          },
          "metadata": {
            "tags": []
          },
          "execution_count": 55
        }
      ]
    },
    {
      "cell_type": "markdown",
      "metadata": {
        "id": "bD8bNBPGnipp",
        "colab_type": "text"
      },
      "source": [
        "* Most of the students do not have ectra educational support "
      ]
    },
    {
      "cell_type": "code",
      "metadata": {
        "id": "yvBjM2BPnfaY",
        "colab_type": "code",
        "colab": {
          "base_uri": "https://localhost:8080/",
          "height": 404
        },
        "outputId": "0d2315e3-92bc-40f0-e589-eea86425b966"
      },
      "source": [
        "plt.figure(figsize = (14, 6))\n",
        "sns.boxplot('G3', 'schoolsup', data = grades)\n",
        "plt.title(\"CHART SHOWING HOW EXTRA EDUCATIONAL SUPPORT AFFECTS FINAL GRADE\")\n",
        "plt.xlabel(\"Final grade\")\n",
        "plt.ylabel(\"Extra educational support\")\n",
        "plt.show()"
      ],
      "execution_count": 56,
      "outputs": [
        {
          "output_type": "display_data",
          "data": {
            "image/png": "[encoded data removed]",
            "text/plain": [
              "<Figure size 1008x432 with 1 Axes>"
            ]
          },
          "metadata": {
            "tags": [],
            "needs_background": "light"
          }
        }
      ]
    },
    {
      "cell_type": "markdown",
      "metadata": {
        "id": "5CmOA2fnoIU3",
        "colab_type": "text"
      },
      "source": [
        "* Students without extra educational support had way better final grades "
      ]
    },
    {
      "cell_type": "markdown",
      "metadata": {
        "id": "gpEivbiNoQ1y",
        "colab_type": "text"
      },
      "source": [
        "**OBSERVATION**"
      ]
    },
    {
      "cell_type": "markdown",
      "metadata": {
        "id": "cYMM_-wTo74G",
        "colab_type": "text"
      },
      "source": [
        "* Extra educational support affects the final grade of students"
      ]
    },
    {
      "cell_type": "markdown",
      "metadata": {
        "id": "My0oq2wHpA8W",
        "colab_type": "text"
      },
      "source": [
        "###FAMILY EDUCATIONAL SUPPORT (famsup)"
      ]
    },
    {
      "cell_type": "code",
      "metadata": {
        "id": "x75MGRkEn3Hs",
        "colab_type": "code",
        "colab": {
          "base_uri": "https://localhost:8080/",
          "height": 72
        },
        "outputId": "54e45a23-71a5-4f05-f2e4-a861f9faf2da"
      },
      "source": [
        "grades['famsup'].value_counts()"
      ],
      "execution_count": 58,
      "outputs": [
        {
          "output_type": "execute_result",
          "data": {
            "text/plain": [
              "yes    242\n",
              "no     153\n",
              "Name: famsup, dtype: int64"
            ]
          },
          "metadata": {
            "tags": []
          },
          "execution_count": 58
        }
      ]
    },
    {
      "cell_type": "markdown",
      "metadata": {
        "id": "tfAYrMP1ptck",
        "colab_type": "text"
      },
      "source": [
        "* More students have family educational support"
      ]
    },
    {
      "cell_type": "code",
      "metadata": {
        "id": "RpmXJQmuppou",
        "colab_type": "code",
        "colab": {
          "base_uri": "https://localhost:8080/",
          "height": 404
        },
        "outputId": "e036ec22-ad11-4dc1-857a-2e0854e57a8a"
      },
      "source": [
        "plt.figure(figsize = (14, 6))\n",
        "sns.boxplot('G3', 'famsup', data = grades)\n",
        "plt.title(\"CHART SHOWING HOW FAMILY EDUCATIONAL SUPPORT AFFECTS FINAL GRADE\")\n",
        "plt.xlabel(\"Final grade\")\n",
        "plt.ylabel(\"Family educatinal support\")\n",
        "plt.show()"
      ],
      "execution_count": 59,
      "outputs": [
        {
          "output_type": "display_data",
          "data": {
            "image/png": "[encoded data removed]",
            "text/plain": [
              "<Figure size 1008x432 with 1 Axes>"
            ]
          },
          "metadata": {
            "tags": [],
            "needs_background": "light"
          }
        }
      ]
    },
    {
      "cell_type": "markdown",
      "metadata": {
        "id": "RlcEBcbbqMSS",
        "colab_type": "text"
      },
      "source": [
        "**OBSERVATION**"
      ]
    },
    {
      "cell_type": "markdown",
      "metadata": {
        "id": "3oY9S7W7qHIF",
        "colab_type": "text"
      },
      "source": [
        "* Family educational support dosent affect the final grades of students much "
      ]
    },
    {
      "cell_type": "markdown",
      "metadata": {
        "id": "zRhU1BTVqQiV",
        "colab_type": "text"
      },
      "source": [
        "###EXTRA PAID CLASSES (paid)"
      ]
    },
    {
      "cell_type": "code",
      "metadata": {
        "id": "QNsXc1ogqFAL",
        "colab_type": "code",
        "colab": {
          "base_uri": "https://localhost:8080/",
          "height": 72
        },
        "outputId": "b8e7499f-f97d-4a94-a64b-2e1b0523afda"
      },
      "source": [
        "grades['paid'].value_counts()"
      ],
      "execution_count": 60,
      "outputs": [
        {
          "output_type": "execute_result",
          "data": {
            "text/plain": [
              "no     214\n",
              "yes    181\n",
              "Name: paid, dtype: int64"
            ]
          },
          "metadata": {
            "tags": []
          },
          "execution_count": 60
        }
      ]
    },
    {
      "cell_type": "markdown",
      "metadata": {
        "id": "MupfAGdcqc70",
        "colab_type": "text"
      },
      "source": [
        "* Students who dont take extra paid classes are more than those who take extra paid classes"
      ]
    },
    {
      "cell_type": "code",
      "metadata": {
        "id": "BNOx1bSHqbGw",
        "colab_type": "code",
        "colab": {
          "base_uri": "https://localhost:8080/",
          "height": 404
        },
        "outputId": "abcff83f-8139-4755-e5d2-515bc4092de8"
      },
      "source": [
        "plt.figure(figsize = (14, 6))\n",
        "sns.boxplot('G3', 'paid', data = grades)\n",
        "plt.title(\"CHART SHOWING HOW EXTRA PAID CLASSES AFFECTS FINAL GRADE\")\n",
        "plt.xlabel(\"Final grade\")\n",
        "plt.ylabel(\"Extra paid classes\")\n",
        "plt.show()"
      ],
      "execution_count": 61,
      "outputs": [
        {
          "output_type": "display_data",
          "data": {
            "image/png": "[encoded data removed]",
            "text/plain": [
              "<Figure size 1008x432 with 1 Axes>"
            ]
          },
          "metadata": {
            "tags": [],
            "needs_background": "light"
          }
        }
      ]
    },
    {
      "cell_type": "markdown",
      "metadata": {
        "id": "G6rYtKJPtj6x",
        "colab_type": "text"
      },
      "source": [
        "**OBSERVATION**\n",
        "\n",
        "* Extra paid classes does not affect the final grades of students"
      ]
    },
    {
      "cell_type": "markdown",
      "metadata": {
        "id": "aVldcMvttspG",
        "colab_type": "text"
      },
      "source": [
        "###EXTRA CURRICULAR ACTIVITIES (activities)"
      ]
    },
    {
      "cell_type": "code",
      "metadata": {
        "id": "hWkq22WGtiFp",
        "colab_type": "code",
        "colab": {
          "base_uri": "https://localhost:8080/",
          "height": 72
        },
        "outputId": "95a3fbec-dcd4-49e7-d8d9-3dec71888a0b"
      },
      "source": [
        "grades.activities.value_counts()"
      ],
      "execution_count": 62,
      "outputs": [
        {
          "output_type": "execute_result",
          "data": {
            "text/plain": [
              "yes    201\n",
              "no     194\n",
              "Name: activities, dtype: int64"
            ]
          },
          "metadata": {
            "tags": []
          },
          "execution_count": 62
        }
      ]
    },
    {
      "cell_type": "markdown",
      "metadata": {
        "id": "UD4in929t8Io",
        "colab_type": "text"
      },
      "source": [
        "* More students perform in extra curricular activities"
      ]
    },
    {
      "cell_type": "code",
      "metadata": {
        "id": "HdwDjewht5yB",
        "colab_type": "code",
        "colab": {
          "base_uri": "https://localhost:8080/",
          "height": 404
        },
        "outputId": "7902fb4e-5bfe-435e-8984-fe6547e6ec16"
      },
      "source": [
        "plt.figure(figsize = (14, 6))\n",
        "sns.boxplot('G3', 'activities', data = grades)\n",
        "plt.title(\"CHART SHOWING HOW EXTRA CURRICULAR ACTIVITIES AFFECTS FINAL GRADE\")\n",
        "plt.xlabel(\"Final grade\")\n",
        "plt.ylabel(\"Extra curricular activities\")\n",
        "plt.show()"
      ],
      "execution_count": 63,
      "outputs": [
        {
          "output_type": "display_data",
          "data": {
            "image/png": "[encoded data removed]",
            "text/plain": [
              "<Figure size 1008x432 with 1 Axes>"
            ]
          },
          "metadata": {
            "tags": [],
            "needs_background": "light"
          }
        }
      ]
    },
    {
      "cell_type": "markdown",
      "metadata": {
        "id": "ZhjTlIVRvKbn",
        "colab_type": "text"
      },
      "source": [
        "**OBSERVATION**"
      ]
    },
    {
      "cell_type": "markdown",
      "metadata": {
        "id": "o-dIf0UeuQ1E",
        "colab_type": "text"
      },
      "source": [
        "* Extra curricular activities does not affect the final grades of students "
      ]
    },
    {
      "cell_type": "markdown",
      "metadata": {
        "id": "pmpVilXCuYW9",
        "colab_type": "text"
      },
      "source": [
        "###NURSERY SCHOOL ATTENDANCE (nursery)"
      ]
    },
    {
      "cell_type": "code",
      "metadata": {
        "id": "ALWZu5S3uOd7",
        "colab_type": "code",
        "colab": {
          "base_uri": "https://localhost:8080/",
          "height": 72
        },
        "outputId": "438956ff-640c-485f-8b0e-5f2188498de6"
      },
      "source": [
        "grades.nursery.value_counts()"
      ],
      "execution_count": 64,
      "outputs": [
        {
          "output_type": "execute_result",
          "data": {
            "text/plain": [
              "yes    314\n",
              "no      81\n",
              "Name: nursery, dtype: int64"
            ]
          },
          "metadata": {
            "tags": []
          },
          "execution_count": 64
        }
      ]
    },
    {
      "cell_type": "markdown",
      "metadata": {
        "id": "hlbX-j7Cu64V",
        "colab_type": "text"
      },
      "source": [
        "* Majority of the students attended Nursery School"
      ]
    },
    {
      "cell_type": "code",
      "metadata": {
        "id": "-7Uiu2Diu5D3",
        "colab_type": "code",
        "colab": {
          "base_uri": "https://localhost:8080/",
          "height": 404
        },
        "outputId": "c07240ff-b3a7-4893-a946-64c894ecd29f"
      },
      "source": [
        "plt.figure(figsize = (14, 6))\n",
        "sns.boxplot('G3', 'nursery', data = grades)\n",
        "plt.title(\"CHART SHOWING HOW NURSERY SCHOOL ATTENDANCE AFFECTS FINAL GRADE\")\n",
        "plt.xlabel(\"Final grade\")\n",
        "plt.ylabel(\"Nursery schhol attendance\")\n",
        "plt.show()"
      ],
      "execution_count": 65,
      "outputs": [
        {
          "output_type": "display_data",
          "data": {
            "image/png": "[encoded data removed]",
            "text/plain": [
              "<Figure size 1008x432 with 1 Axes>"
            ]
          },
          "metadata": {
            "tags": [],
            "needs_background": "light"
          }
        }
      ]
    },
    {
      "cell_type": "markdown",
      "metadata": {
        "id": "rQrI6q_Pvhz5",
        "colab_type": "text"
      },
      "source": [
        "**OBSERVATION**\n",
        "\n",
        "* Nursery school attendance does not affect the final grades of students"
      ]
    },
    {
      "cell_type": "markdown",
      "metadata": {
        "id": "4UTuLAlDvvZS",
        "colab_type": "text"
      },
      "source": [
        "###WILLINNESS TO TAKE HIGHER EDUCATION (higher)"
      ]
    },
    {
      "cell_type": "code",
      "metadata": {
        "id": "rihP2hgCvfAZ",
        "colab_type": "code",
        "colab": {
          "base_uri": "https://localhost:8080/",
          "height": 72
        },
        "outputId": "e345c42b-6cb5-4aaa-eaa0-2302b8e66eae"
      },
      "source": [
        "grades.higher.value_counts()"
      ],
      "execution_count": 66,
      "outputs": [
        {
          "output_type": "execute_result",
          "data": {
            "text/plain": [
              "yes    375\n",
              "no      20\n",
              "Name: higher, dtype: int64"
            ]
          },
          "metadata": {
            "tags": []
          },
          "execution_count": 66
        }
      ]
    },
    {
      "cell_type": "markdown",
      "metadata": {
        "id": "GGVsyckuwGTc",
        "colab_type": "text"
      },
      "source": [
        "* Most of the studentsare willing to take higher education"
      ]
    },
    {
      "cell_type": "code",
      "metadata": {
        "id": "zsu5vzNNwESD",
        "colab_type": "code",
        "colab": {}
      },
      "source": [
        ""
      ],
      "execution_count": null,
      "outputs": []
    }
  ]
}