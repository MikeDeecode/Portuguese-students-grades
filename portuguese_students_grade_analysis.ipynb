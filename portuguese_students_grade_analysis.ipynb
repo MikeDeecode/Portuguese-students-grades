{
  "nbformat": 4,
  "nbformat_minor": 0,
  "metadata": {
    "colab": {
      "name": "portuguese-students-grade-analysis.ipynb",
      "provenance": [],
      "authorship_tag": "ABX9TyPXN1EHvfEnNC2Ji/pIBdCg",
      "include_colab_link": true
    },
    "kernelspec": {
      "name": "python3",
      "display_name": "Python 3"
    }
  },
  "cells": [
    {
      "cell_type": "markdown",
      "metadata": {
        "id": "view-in-github",
        "colab_type": "text"
      },
      "source": [
        "<a href=\"https://colab.research.google.com/github/MikeDeecode/Portuguese-students-grades/blob/master/portuguese_students_grade_analysis.ipynb\" target=\"_parent\"><img src=\"https://colab.research.google.com/assets/colab-badge.svg\" alt=\"Open In Colab\"/></a>"
      ]
    },
    {
      "cell_type": "markdown",
      "metadata": {
        "id": "E2qjfBDx5Lir",
        "colab_type": "text"
      },
      "source": [
        "#**GRADES OF STUDENTS IN MATHEMATICS AND PORTUGUESE LANGUAGE FROM GABRIEL PEREIRA HIGH SCHOOL (GP) AND MOUSINHO DA SILVEIRA (MS) HIGH SCHOOLS ANALYSIS**"
      ]
    },
    {
      "cell_type": "markdown",
      "metadata": {
        "id": "0CPf8Mnz5jNd",
        "colab_type": "text"
      },
      "source": [
        "(**The aim of the project:**"
      ]
    },
    {
      "cell_type": "markdown",
      "metadata": {
        "id": "9ORMS_jv5r_-",
        "colab_type": "text"
      },
      "source": [
        "* To determine the characteristics that affect the grades of students \n",
        "* To obtain insights from the data \n",
        "* To predict the final grades of students who are not in the dataset \n",
        "\n",
        "Ride along!!!"
      ]
    },
    {
      "cell_type": "markdown",
      "metadata": {
        "id": "AkVtV1C_6cg3",
        "colab_type": "text"
      },
      "source": [
        "##**Exploratory Analysis**"
      ]
    },
    {
      "cell_type": "markdown",
      "metadata": {
        "id": "koR5d7656kNW",
        "colab_type": "text"
      },
      "source": [
        "Import the required libraries for analysis "
      ]
    },
    {
      "cell_type": "code",
      "metadata": {
        "id": "jdINPaRs1xCi",
        "colab_type": "code",
        "colab": {
          "base_uri": "https://localhost:8080/",
          "height": 35
        },
        "outputId": "9afa9508-9c08-4ac6-da87-552fa6d58b3c"
      },
      "source": [
        "import numpy as np\n",
        "import pandas as pd\n",
        "import matplotlib.pyplot as plt\n",
        "import seaborn as sns\n",
        "import warnings \n",
        "warnings.filterwarnings('ignore')\n",
        "\n",
        "print(\"Setup complete\")"
      ],
      "execution_count": 2,
      "outputs": [
        {
          "output_type": "stream",
          "text": [
            "Setup complete\n"
          ],
          "name": "stdout"
        }
      ]
    },
    {
      "cell_type": "markdown",
      "metadata": {
        "id": "O1DPLO5066JT",
        "colab_type": "text"
      },
      "source": [
        "Load the dataset"
      ]
    },
    {
      "cell_type": "code",
      "metadata": {
        "id": "1CnllLbh4fsA",
        "colab_type": "code",
        "colab": {
          "base_uri": "https://localhost:8080/",
          "height": 35
        },
        "outputId": "034752d4-5b24-4374-f44f-db7f7d1190d5"
      },
      "source": [
        "grades = pd.read_csv(\"/content/portuguese school students grades.csv\")\n",
        "\n",
        "print(\"Success\")"
      ],
      "execution_count": 3,
      "outputs": [
        {
          "output_type": "stream",
          "text": [
            "Success\n"
          ],
          "name": "stdout"
        }
      ]
    },
    {
      "cell_type": "code",
      "metadata": {
        "id": "8Wn2oRcb7b_Y",
        "colab_type": "code",
        "colab": {
          "base_uri": "https://localhost:8080/",
          "height": 35
        },
        "outputId": "97ef36dd-5ca4-4d5d-ca2d-b568eebb489a"
      },
      "source": [
        "grades.shape"
      ],
      "execution_count": 6,
      "outputs": [
        {
          "output_type": "execute_result",
          "data": {
            "text/plain": [
              "(395, 33)"
            ]
          },
          "metadata": {
            "tags": []
          },
          "execution_count": 6
        }
      ]
    },
    {
      "cell_type": "markdown",
      "metadata": {
        "id": "qIm-_z6f7gNO",
        "colab_type": "text"
      },
      "source": [
        "* There are 395 students data (rows) and 33 columns in the dataset "
      ]
    },
    {
      "cell_type": "markdown",
      "metadata": {
        "id": "gVW3Wj-k7tJG",
        "colab_type": "text"
      },
      "source": [
        "**DESCRIPTION OF THE DATASET**"
      ]
    },
    {
      "cell_type": "code",
      "metadata": {
        "id": "pr2KAw4Y7Liu",
        "colab_type": "code",
        "colab": {
          "base_uri": "https://localhost:8080/",
          "height": 217
        },
        "outputId": "0e5d1f3b-7ac4-4a23-e00b-888895282402"
      },
      "source": [
        "grades.head()"
      ],
      "execution_count": 4,
      "outputs": [
        {
          "output_type": "execute_result",
          "data": {
            "text/html": [
              "<div>\n",
              "<style scoped>\n",
              "    .dataframe tbody tr th:only-of-type {\n",
              "        vertical-align: middle;\n",
              "    }\n",
              "\n",
              "    .dataframe tbody tr th {\n",
              "        vertical-align: top;\n",
              "    }\n",
              "\n",
              "    .dataframe thead th {\n",
              "        text-align: right;\n",
              "    }\n",
              "</style>\n",
              "<table border=\"1\" class=\"dataframe\">\n",
              "  <thead>\n",
              "    <tr style=\"text-align: right;\">\n",
              "      <th></th>\n",
              "      <th>school</th>\n",
              "      <th>sex</th>\n",
              "      <th>age</th>\n",
              "      <th>address</th>\n",
              "      <th>famsize</th>\n",
              "      <th>Pstatus</th>\n",
              "      <th>Medu</th>\n",
              "      <th>Fedu</th>\n",
              "      <th>Mjob</th>\n",
              "      <th>Fjob</th>\n",
              "      <th>reason</th>\n",
              "      <th>guardian</th>\n",
              "      <th>traveltime</th>\n",
              "      <th>studytime</th>\n",
              "      <th>failures</th>\n",
              "      <th>schoolsup</th>\n",
              "      <th>famsup</th>\n",
              "      <th>paid</th>\n",
              "      <th>activities</th>\n",
              "      <th>nursery</th>\n",
              "      <th>higher</th>\n",
              "      <th>internet</th>\n",
              "      <th>romantic</th>\n",
              "      <th>famrel</th>\n",
              "      <th>freetime</th>\n",
              "      <th>goout</th>\n",
              "      <th>Dalc</th>\n",
              "      <th>Walc</th>\n",
              "      <th>health</th>\n",
              "      <th>absences</th>\n",
              "      <th>G1</th>\n",
              "      <th>G2</th>\n",
              "      <th>G3</th>\n",
              "    </tr>\n",
              "  </thead>\n",
              "  <tbody>\n",
              "    <tr>\n",
              "      <th>0</th>\n",
              "      <td>GP</td>\n",
              "      <td>F</td>\n",
              "      <td>18</td>\n",
              "      <td>U</td>\n",
              "      <td>GT3</td>\n",
              "      <td>A</td>\n",
              "      <td>4</td>\n",
              "      <td>4</td>\n",
              "      <td>at_home</td>\n",
              "      <td>teacher</td>\n",
              "      <td>course</td>\n",
              "      <td>mother</td>\n",
              "      <td>2</td>\n",
              "      <td>2</td>\n",
              "      <td>0</td>\n",
              "      <td>yes</td>\n",
              "      <td>no</td>\n",
              "      <td>no</td>\n",
              "      <td>no</td>\n",
              "      <td>yes</td>\n",
              "      <td>yes</td>\n",
              "      <td>no</td>\n",
              "      <td>no</td>\n",
              "      <td>4</td>\n",
              "      <td>3</td>\n",
              "      <td>4</td>\n",
              "      <td>1</td>\n",
              "      <td>1</td>\n",
              "      <td>3</td>\n",
              "      <td>6</td>\n",
              "      <td>5</td>\n",
              "      <td>6</td>\n",
              "      <td>6</td>\n",
              "    </tr>\n",
              "    <tr>\n",
              "      <th>1</th>\n",
              "      <td>GP</td>\n",
              "      <td>F</td>\n",
              "      <td>17</td>\n",
              "      <td>U</td>\n",
              "      <td>GT3</td>\n",
              "      <td>T</td>\n",
              "      <td>1</td>\n",
              "      <td>1</td>\n",
              "      <td>at_home</td>\n",
              "      <td>other</td>\n",
              "      <td>course</td>\n",
              "      <td>father</td>\n",
              "      <td>1</td>\n",
              "      <td>2</td>\n",
              "      <td>0</td>\n",
              "      <td>no</td>\n",
              "      <td>yes</td>\n",
              "      <td>no</td>\n",
              "      <td>no</td>\n",
              "      <td>no</td>\n",
              "      <td>yes</td>\n",
              "      <td>yes</td>\n",
              "      <td>no</td>\n",
              "      <td>5</td>\n",
              "      <td>3</td>\n",
              "      <td>3</td>\n",
              "      <td>1</td>\n",
              "      <td>1</td>\n",
              "      <td>3</td>\n",
              "      <td>4</td>\n",
              "      <td>5</td>\n",
              "      <td>5</td>\n",
              "      <td>6</td>\n",
              "    </tr>\n",
              "    <tr>\n",
              "      <th>2</th>\n",
              "      <td>GP</td>\n",
              "      <td>F</td>\n",
              "      <td>15</td>\n",
              "      <td>U</td>\n",
              "      <td>LE3</td>\n",
              "      <td>T</td>\n",
              "      <td>1</td>\n",
              "      <td>1</td>\n",
              "      <td>at_home</td>\n",
              "      <td>other</td>\n",
              "      <td>other</td>\n",
              "      <td>mother</td>\n",
              "      <td>1</td>\n",
              "      <td>2</td>\n",
              "      <td>3</td>\n",
              "      <td>yes</td>\n",
              "      <td>no</td>\n",
              "      <td>yes</td>\n",
              "      <td>no</td>\n",
              "      <td>yes</td>\n",
              "      <td>yes</td>\n",
              "      <td>yes</td>\n",
              "      <td>no</td>\n",
              "      <td>4</td>\n",
              "      <td>3</td>\n",
              "      <td>2</td>\n",
              "      <td>2</td>\n",
              "      <td>3</td>\n",
              "      <td>3</td>\n",
              "      <td>10</td>\n",
              "      <td>7</td>\n",
              "      <td>8</td>\n",
              "      <td>10</td>\n",
              "    </tr>\n",
              "    <tr>\n",
              "      <th>3</th>\n",
              "      <td>GP</td>\n",
              "      <td>F</td>\n",
              "      <td>15</td>\n",
              "      <td>U</td>\n",
              "      <td>GT3</td>\n",
              "      <td>T</td>\n",
              "      <td>4</td>\n",
              "      <td>2</td>\n",
              "      <td>health</td>\n",
              "      <td>services</td>\n",
              "      <td>home</td>\n",
              "      <td>mother</td>\n",
              "      <td>1</td>\n",
              "      <td>3</td>\n",
              "      <td>0</td>\n",
              "      <td>no</td>\n",
              "      <td>yes</td>\n",
              "      <td>yes</td>\n",
              "      <td>yes</td>\n",
              "      <td>yes</td>\n",
              "      <td>yes</td>\n",
              "      <td>yes</td>\n",
              "      <td>yes</td>\n",
              "      <td>3</td>\n",
              "      <td>2</td>\n",
              "      <td>2</td>\n",
              "      <td>1</td>\n",
              "      <td>1</td>\n",
              "      <td>5</td>\n",
              "      <td>2</td>\n",
              "      <td>15</td>\n",
              "      <td>14</td>\n",
              "      <td>15</td>\n",
              "    </tr>\n",
              "    <tr>\n",
              "      <th>4</th>\n",
              "      <td>GP</td>\n",
              "      <td>F</td>\n",
              "      <td>16</td>\n",
              "      <td>U</td>\n",
              "      <td>GT3</td>\n",
              "      <td>T</td>\n",
              "      <td>3</td>\n",
              "      <td>3</td>\n",
              "      <td>other</td>\n",
              "      <td>other</td>\n",
              "      <td>home</td>\n",
              "      <td>father</td>\n",
              "      <td>1</td>\n",
              "      <td>2</td>\n",
              "      <td>0</td>\n",
              "      <td>no</td>\n",
              "      <td>yes</td>\n",
              "      <td>yes</td>\n",
              "      <td>no</td>\n",
              "      <td>yes</td>\n",
              "      <td>yes</td>\n",
              "      <td>no</td>\n",
              "      <td>no</td>\n",
              "      <td>4</td>\n",
              "      <td>3</td>\n",
              "      <td>2</td>\n",
              "      <td>1</td>\n",
              "      <td>2</td>\n",
              "      <td>5</td>\n",
              "      <td>4</td>\n",
              "      <td>6</td>\n",
              "      <td>10</td>\n",
              "      <td>10</td>\n",
              "    </tr>\n",
              "  </tbody>\n",
              "</table>\n",
              "</div>"
            ],
            "text/plain": [
              "  school sex  age address famsize Pstatus  ...  Walc  health absences  G1  G2  G3\n",
              "0     GP   F   18       U     GT3       A  ...     1       3        6   5   6   6\n",
              "1     GP   F   17       U     GT3       T  ...     1       3        4   5   5   6\n",
              "2     GP   F   15       U     LE3       T  ...     3       3       10   7   8  10\n",
              "3     GP   F   15       U     GT3       T  ...     1       5        2  15  14  15\n",
              "4     GP   F   16       U     GT3       T  ...     2       5        4   6  10  10\n",
              "\n",
              "[5 rows x 33 columns]"
            ]
          },
          "metadata": {
            "tags": []
          },
          "execution_count": 4
        }
      ]
    },
    {
      "cell_type": "markdown",
      "metadata": {
        "id": "z3PaHDBG7xSG",
        "colab_type": "text"
      },
      "source": [
        "Below is a nrief description of the columns in the dataset \n",
        "\n",
        "* **school** - student's school ('GP' - Gabriel Pereira or 'MS' - Mousinho da Silveira)\n",
        "* **sex** - student's sex ('F' - female or 'M' - male)\n",
        "* **age** - student's age (from 15 to 22)\n",
        "* **address** - student's home address type ('U' - urban or 'R' - rural)\n",
        "* **famsize** - family size ('LE3' - less or equal to 3 or 'GT3' - greater than 3)\n",
        "* **Pstatus** - parent's cohabitation status ('T' - living together or 'A' - apart)\n",
        "* **Medu** - mother's education (0 - none, 1 - primary education (4th grade), 2 - 5th to 9th grade, 3 - secondary education or 4 - higher education)\n",
        "* **Fedu** - father's education (0 - none, 1 - primary education (4th grade), 2 - 5th to 9th grade, 3 - secondary education or 4 - higher education)\n",
        "* **Mjob** - mother's job ('teacher', 'health' care related, civil 'services' (e.g. administrative or police), 'at_home' or 'other')\n",
        "* **Fjob** - father's job ('teacher', 'health' care related, civil 'services' (e.g. administrative or police), 'at_home' or 'other')\n",
        "* **reason** - reason to choose this school (close to 'home', school 'reputation', 'course' preference or 'other')\n",
        "* **guardian** - student's guardian ('mother', 'father' or 'other')\n",
        "* **traveltime** - home to school travel time\n",
        "* **studytime** - weekly study time (numeric: 1 - 10 hours)\n",
        "* **failures** - number of past class failures\n",
        "* **schoolsup** - extra educational support (yes or no)\n",
        "* **famsup** - family educational support (yes or no)\n",
        "* **paid** - extra paid classes within the course subject (Math or Portuguese) (yes or no)\n",
        "* **activities** - extra-curricular activities (yes or no)\n",
        "* **nursery** - attended nursery school (yes or no)\n",
        "* **higher** - wants to take higher education (yes or no)\n",
        "* **internet** - Internet access at home (yes or no)\n",
        "* **romantic** - with a romantic relationship (yes or no)\n",
        "* **famrel** - quality of family relationships (from 1 - very bad to 5 - excellent)\n",
        "* **freetime** - free time after school (from 1 - very low to 5 - very high)\n",
        "* **goout** - going out with friends (from 1 - very low to 5 - very high)\n",
        "* **Dalc** - workday alcohol consumption (from 1 - very low to 5 - very high)\n",
        "* **Walc** - weekend alcohol consumption (from 1 - very low to 5 - very high)\n",
        "* **health** - current health status (from 1 - very bad to 5 - very good)\n",
        "* **absences** - number of school absences (from 0 to 93)\n",
        "* **G1** - first period grade (from 0 to 20)\n",
        "* **G2** - second period grade (from 0 to 20)\n",
        "* **G3** - final grade (from 0 to 20)"
      ]
    },
    {
      "cell_type": "code",
      "metadata": {
        "id": "81vqdskk7WOn",
        "colab_type": "code",
        "colab": {
          "base_uri": "https://localhost:8080/",
          "height": 750
        },
        "outputId": "a44bd320-6676-4d36-dbb9-3808799de3da"
      },
      "source": [
        "grades.info()"
      ],
      "execution_count": 7,
      "outputs": [
        {
          "output_type": "stream",
          "text": [
            "<class 'pandas.core.frame.DataFrame'>\n",
            "RangeIndex: 395 entries, 0 to 394\n",
            "Data columns (total 33 columns):\n",
            " #   Column      Non-Null Count  Dtype \n",
            "---  ------      --------------  ----- \n",
            " 0   school      395 non-null    object\n",
            " 1   sex         395 non-null    object\n",
            " 2   age         395 non-null    int64 \n",
            " 3   address     395 non-null    object\n",
            " 4   famsize     395 non-null    object\n",
            " 5   Pstatus     395 non-null    object\n",
            " 6   Medu        395 non-null    int64 \n",
            " 7   Fedu        395 non-null    int64 \n",
            " 8   Mjob        395 non-null    object\n",
            " 9   Fjob        395 non-null    object\n",
            " 10  reason      395 non-null    object\n",
            " 11  guardian    395 non-null    object\n",
            " 12  traveltime  395 non-null    int64 \n",
            " 13  studytime   395 non-null    int64 \n",
            " 14  failures    395 non-null    int64 \n",
            " 15  schoolsup   395 non-null    object\n",
            " 16  famsup      395 non-null    object\n",
            " 17  paid        395 non-null    object\n",
            " 18  activities  395 non-null    object\n",
            " 19  nursery     395 non-null    object\n",
            " 20  higher      395 non-null    object\n",
            " 21  internet    395 non-null    object\n",
            " 22  romantic    395 non-null    object\n",
            " 23  famrel      395 non-null    int64 \n",
            " 24  freetime    395 non-null    int64 \n",
            " 25  goout       395 non-null    int64 \n",
            " 26  Dalc        395 non-null    int64 \n",
            " 27  Walc        395 non-null    int64 \n",
            " 28  health      395 non-null    int64 \n",
            " 29  absences    395 non-null    int64 \n",
            " 30  G1          395 non-null    int64 \n",
            " 31  G2          395 non-null    int64 \n",
            " 32  G3          395 non-null    int64 \n",
            "dtypes: int64(16), object(17)\n",
            "memory usage: 102.0+ KB\n"
          ],
          "name": "stdout"
        }
      ]
    },
    {
      "cell_type": "markdown",
      "metadata": {
        "id": "MFp7ot3_BsdU",
        "colab_type": "text"
      },
      "source": [
        "There are no missing values in the data \n",
        "\n",
        "Thus we can start analysing the features"
      ]
    },
    {
      "cell_type": "markdown",
      "metadata": {
        "id": "558XluZ6COUC",
        "colab_type": "text"
      },
      "source": [
        "Please note that I my analysis is based on predicting the final grade G3"
      ]
    },
    {
      "cell_type": "markdown",
      "metadata": {
        "id": "xDhZY4OIB0cy",
        "colab_type": "text"
      },
      "source": [
        "###SCHOOL (school)"
      ]
    },
    {
      "cell_type": "markdown",
      "metadata": {
        "id": "vU_Rtz-YB_ci",
        "colab_type": "text"
      },
      "source": [
        "**NUMBER OF STUDENTS BY SCHOOL**"
      ]
    },
    {
      "cell_type": "code",
      "metadata": {
        "id": "3m-yVXEgBnZk",
        "colab_type": "code",
        "colab": {
          "base_uri": "https://localhost:8080/",
          "height": 72
        },
        "outputId": "21f9cfce-f4b6-4543-bc66-52f43c260bfd"
      },
      "source": [
        "grades['school'].value_counts()"
      ],
      "execution_count": 8,
      "outputs": [
        {
          "output_type": "execute_result",
          "data": {
            "text/plain": [
              "GP    349\n",
              "MS     46\n",
              "Name: school, dtype: int64"
            ]
          },
          "metadata": {
            "tags": []
          },
          "execution_count": 8
        }
      ]
    },
    {
      "cell_type": "markdown",
      "metadata": {
        "id": "WhTA76xaCrb0",
        "colab_type": "text"
      },
      "source": [
        "* There are 349 students from Gbriel Pereira \n",
        "* There are 46 students from Mousinho da Silveira "
      ]
    },
    {
      "cell_type": "code",
      "metadata": {
        "id": "-03OXbnvCl5D",
        "colab_type": "code",
        "colab": {
          "base_uri": "https://localhost:8080/",
          "height": 264
        },
        "outputId": "23173200-8f6f-48f3-ef49-db664353acce"
      },
      "source": [
        "size = [349,46]\n",
        "labels = 'Gabriel Pereira HS', 'Mousinho da Silveira HS'\n",
        "explode = [0, 0.1]\n",
        "\n",
        "fig, ax = plt.subplots()\n",
        "ax.pie(size, labels = labels, explode = explode, autopct = '%1.1f%%', startangle = 90)\n",
        "ax.axis('equal')\n",
        "plt.title(\"PIE CHART SHOWING THE PERCENTAGE OF STUDENTS BY SCHOOL\")\n",
        "plt.show() "
      ],
      "execution_count": 18,
      "outputs": [
        {
          "output_type": "display_data",
          "data": {
            "image/png": "[encoded data removed]",
            "text/plain": [
              "<Figure size 432x288 with 1 Axes>"
            ]
          },
          "metadata": {
            "tags": []
          }
        }
      ]
    },
    {
      "cell_type": "markdown",
      "metadata": {
        "id": "J-6CTiItDn7z",
        "colab_type": "text"
      },
      "source": [
        "* 88.4 percent of the students are from Gabriel Pereira\n",
        "* 11.5 percent of the students are from Mousinho da Silveira"
      ]
    },
    {
      "cell_type": "markdown",
      "metadata": {
        "id": "awMwPPeZEanS",
        "colab_type": "text"
      },
      "source": [
        "**SCHOOL AND FINAL GRADE**"
      ]
    },
    {
      "cell_type": "code",
      "metadata": {
        "id": "0sp28495Dj0R",
        "colab_type": "code",
        "colab": {
          "base_uri": "https://localhost:8080/",
          "height": 404
        },
        "outputId": "0fba03e5-f6eb-45d6-9102-e72a5fa2558b"
      },
      "source": [
        "plt.figure(figsize = (14, 6))\n",
        "sns.boxplot('G3', 'school', data = grades)\n",
        "plt.title(\"CHART SHOWING SCHOOL AFFECT FINAL GRADE OF STUDENTS\")\n",
        "plt.xlabel('Final grades')\n",
        "plt.show()"
      ],
      "execution_count": 12,
      "outputs": [
        {
          "output_type": "display_data",
          "data": {
            "image/png": "[encoded data removed]",
            "text/plain": [
              "<Figure size 1008x432 with 1 Axes>"
            ]
          },
          "metadata": {
            "tags": [],
            "needs_background": "light"
          }
        }
      ]
    },
    {
      "cell_type": "markdown",
      "metadata": {
        "id": "M8TAjEInGGUy",
        "colab_type": "text"
      },
      "source": [
        "**OBSERVATION**"
      ]
    },
    {
      "cell_type": "markdown",
      "metadata": {
        "id": "rjMGBXYiF-xL",
        "colab_type": "text"
      },
      "source": [
        "* From the diagram above, the school students' attend does not affect their final grade "
      ]
    },
    {
      "cell_type": "markdown",
      "metadata": {
        "id": "NQU7JVajGKG1",
        "colab_type": "text"
      },
      "source": [
        "###SEX (sex)"
      ]
    },
    {
      "cell_type": "markdown",
      "metadata": {
        "id": "buDb8v5lG4S3",
        "colab_type": "text"
      },
      "source": [
        "**NUMBER OF STUDENTS BY GENDER**"
      ]
    },
    {
      "cell_type": "code",
      "metadata": {
        "id": "nsF1bgvzE7t1",
        "colab_type": "code",
        "colab": {
          "base_uri": "https://localhost:8080/",
          "height": 72
        },
        "outputId": "7144ba30-ec94-487e-a463-f64f582b73b6"
      },
      "source": [
        "grades['sex'].value_counts()"
      ],
      "execution_count": 13,
      "outputs": [
        {
          "output_type": "execute_result",
          "data": {
            "text/plain": [
              "F    208\n",
              "M    187\n",
              "Name: sex, dtype: int64"
            ]
          },
          "metadata": {
            "tags": []
          },
          "execution_count": 13
        }
      ]
    },
    {
      "cell_type": "markdown",
      "metadata": {
        "id": "7xSkFyvRGV6t",
        "colab_type": "text"
      },
      "source": [
        "* There are 208 female students \n",
        "* There are 187 male students "
      ]
    },
    {
      "cell_type": "code",
      "metadata": {
        "id": "14fiREKFGT-_",
        "colab_type": "code",
        "colab": {
          "base_uri": "https://localhost:8080/",
          "height": 264
        },
        "outputId": "b366cbbc-81c0-40b9-c2cd-20337fca18b9"
      },
      "source": [
        "size = [208, 187]\n",
        "labels = 'Female', 'Male'\n",
        "explode = [0, 0.1]\n",
        "\n",
        "fig1, ax1 = plt.subplots()\n",
        "ax1.pie(size, labels = labels, explode = explode, autopct = '%1.1f%%', startangle = 90)\n",
        "ax1.axis('equal')\n",
        "plt.title(\"PIE CHART SHPWING PERCENTAGE OF STUDENTS BY GENDER\")\n",
        "plt.show()"
      ],
      "execution_count": 17,
      "outputs": [
        {
          "output_type": "display_data",
          "data": {
            "image/png": "[encoded data removed]",
            "text/plain": [
              "<Figure size 432x288 with 1 Axes>"
            ]
          },
          "metadata": {
            "tags": []
          }
        }
      ]
    },
    {
      "cell_type": "markdown",
      "metadata": {
        "id": "PgDELoKCLZyh",
        "colab_type": "text"
      },
      "source": [
        "**GENDER AND FINAL GRADE**"
      ]
    },
    {
      "cell_type": "code",
      "metadata": {
        "id": "dvAogmucLdnE",
        "colab_type": "code",
        "colab": {
          "base_uri": "https://localhost:8080/",
          "height": 404
        },
        "outputId": "8b9d56ea-d844-4f06-a2bd-f9d9bb545860"
      },
      "source": [
        "plt.figure(figsize = (14, 6))\n",
        "sns.boxplot('G3', 'sex', data = grades)\n",
        "plt.title(\"CHART SHOWING HOW GENDER AFFECTS FINAL GRADE\")\n",
        "plt.xlabel(\"Final grade\")\n",
        "plt.show()"
      ],
      "execution_count": 28,
      "outputs": [
        {
          "output_type": "display_data",
          "data": {
            "image/png": "[encoded data removed]",
            "text/plain": [
              "<Figure size 1008x432 with 1 Axes>"
            ]
          },
          "metadata": {
            "tags": [],
            "needs_background": "light"
          }
        }
      ]
    },
    {
      "cell_type": "markdown",
      "metadata": {
        "id": "GZDizEC3MjRX",
        "colab_type": "text"
      },
      "source": [
        "**OBSERVATION**\n",
        "\n",
        "* A female student had the lowest grade\n",
        "* A male student had the highest grade\n",
        "* The gender of the students does not affect their final grade much\n"
      ]
    },
    {
      "cell_type": "markdown",
      "metadata": {
        "id": "_wJ6k_LpIkCc",
        "colab_type": "text"
      },
      "source": [
        "###AGE (age)"
      ]
    },
    {
      "cell_type": "markdown",
      "metadata": {
        "id": "NeS3JFC7IofL",
        "colab_type": "text"
      },
      "source": [
        "**NUMBER OF STUDENTS BY AGE**"
      ]
    },
    {
      "cell_type": "code",
      "metadata": {
        "id": "124j6PO4HvCS",
        "colab_type": "code",
        "colab": {
          "base_uri": "https://localhost:8080/",
          "height": 182
        },
        "outputId": "f91b21ae-7db0-4519-87d1-b01c86e3b8fd"
      },
      "source": [
        "grades['age'].value_counts()"
      ],
      "execution_count": 21,
      "outputs": [
        {
          "output_type": "execute_result",
          "data": {
            "text/plain": [
              "16    104\n",
              "17     98\n",
              "18     82\n",
              "15     82\n",
              "19     24\n",
              "20      3\n",
              "22      1\n",
              "21      1\n",
              "Name: age, dtype: int64"
            ]
          },
          "metadata": {
            "tags": []
          },
          "execution_count": 21
        }
      ]
    },
    {
      "cell_type": "markdown",
      "metadata": {
        "id": "R-6s11OwJgYl",
        "colab_type": "text"
      },
      "source": [
        "* Majority of the students are 16 years old "
      ]
    },
    {
      "cell_type": "code",
      "metadata": {
        "id": "60It7IP7JQbf",
        "colab_type": "code",
        "colab": {
          "base_uri": "https://localhost:8080/",
          "height": 404
        },
        "outputId": "63ff524f-99e8-4d17-e565-f7f60a2b355a"
      },
      "source": [
        "plt.figure(figsize = (14, 6))\n",
        "sns.countplot('age', data = grades)\n",
        "plt.title(\"CHART SHOWING THE NUMBER OF STUDENTS BY AGE\")\n",
        "plt.ylabel(\"Number of students\")\n",
        "plt.show()"
      ],
      "execution_count": 22,
      "outputs": [
        {
          "output_type": "display_data",
          "data": {
            "image/png": "[encoded data removed]",
            "text/plain": [
              "<Figure size 1008x432 with 1 Axes>"
            ]
          },
          "metadata": {
            "tags": [],
            "needs_background": "light"
          }
        }
      ]
    },
    {
      "cell_type": "markdown",
      "metadata": {
        "id": "2NmPPcd-KV73",
        "colab_type": "text"
      },
      "source": [
        "**AGE AND FINAL GRADE**"
      ]
    },
    {
      "cell_type": "code",
      "metadata": {
        "id": "Ahs8G0KWKK-6",
        "colab_type": "code",
        "colab": {
          "base_uri": "https://localhost:8080/",
          "height": 404
        },
        "outputId": "fbe96611-bb22-4dc1-a471-e3d9ccc97915"
      },
      "source": [
        "plt.figure(figsize = (14, 6))\n",
        "sns.lineplot('age', 'G3', data = grades)\n",
        "plt.title(\"CHAT SHOWING HOW AGE AFFECTS FINAL GRADE\")\n",
        "plt.ylabel(\"Final grade\")\n",
        "plt.show()"
      ],
      "execution_count": 24,
      "outputs": [
        {
          "output_type": "display_data",
          "data": {
            "image/png": "[encoded data removed]",
            "text/plain": [
              "<Figure size 1008x432 with 1 Axes>"
            ]
          },
          "metadata": {
            "tags": [],
            "needs_background": "light"
          }
        }
      ]
    },
    {
      "cell_type": "markdown",
      "metadata": {
        "id": "u0XGJGtpK-aF",
        "colab_type": "text"
      },
      "source": [
        "**OBSERVATION**"
      ]
    },
    {
      "cell_type": "markdown",
      "metadata": {
        "id": "icnZkFW5LPMz",
        "colab_type": "text"
      },
      "source": [
        "* The age of the students does not affect their final grade"
      ]
    },
    {
      "cell_type": "markdown",
      "metadata": {
        "id": "r30xIXIbNI5h",
        "colab_type": "text"
      },
      "source": [
        "###STUDENTS' ADDRESS TYPE (address)"
      ]
    },
    {
      "cell_type": "markdown",
      "metadata": {
        "id": "wLrlENMpNnzl",
        "colab_type": "text"
      },
      "source": [
        "**NUMBER OF STUDENTS BY ADDRESS TYPE**"
      ]
    },
    {
      "cell_type": "code",
      "metadata": {
        "id": "bLk8_hwGN9Bu",
        "colab_type": "code",
        "colab": {}
      },
      "source": [
        "grades.replace(to_replace = 'U', value = 'Urban', inplace = True)\n",
        "grades.replace(to_replace = 'R', value = 'Rural', inplace = True)"
      ],
      "execution_count": 30,
      "outputs": []
    },
    {
      "cell_type": "code",
      "metadata": {
        "id": "IZG7H22fK204",
        "colab_type": "code",
        "colab": {
          "base_uri": "https://localhost:8080/",
          "height": 72
        },
        "outputId": "31a9384c-ba3c-40d1-996e-2e5cdae0c75d"
      },
      "source": [
        "grades['address'].value_counts()"
      ],
      "execution_count": 31,
      "outputs": [
        {
          "output_type": "execute_result",
          "data": {
            "text/plain": [
              "Urban    307\n",
              "Rural     88\n",
              "Name: address, dtype: int64"
            ]
          },
          "metadata": {
            "tags": []
          },
          "execution_count": 31
        }
      ]
    },
    {
      "cell_type": "markdown",
      "metadata": {
        "id": "JvT0RphEN3SM",
        "colab_type": "text"
      },
      "source": [
        "* Majority of the studnets live in the urban area (307)"
      ]
    },
    {
      "cell_type": "code",
      "metadata": {
        "id": "L6Xg202sN0y3",
        "colab_type": "code",
        "colab": {
          "base_uri": "https://localhost:8080/",
          "height": 295
        },
        "outputId": "6ea3c13e-a231-41f7-bc2b-ca5e3145b326"
      },
      "source": [
        "sns.countplot('address', data = grades)\n",
        "plt.title(\"CHART SHOWING THE NUMBER OF STUDENTS BY ADDRESS TYPE\")\n",
        "plt.xlabel(\"Address type\")\n",
        "plt.ylabel(\"Number of students\")\n",
        "plt.show()"
      ],
      "execution_count": 33,
      "outputs": [
        {
          "output_type": "display_data",
          "data": {
            "image/png": "[encoded data removed]",
            "text/plain": [
              "<Figure size 432x288 with 1 Axes>"
            ]
          },
          "metadata": {
            "tags": [],
            "needs_background": "light"
          }
        }
      ]
    },
    {
      "cell_type": "markdown",
      "metadata": {
        "id": "1-s2gkqXQm5V",
        "colab_type": "text"
      },
      "source": [
        "**ADDRESS TYPE AND FINAL GRADE**"
      ]
    },
    {
      "cell_type": "code",
      "metadata": {
        "id": "y19P4YTYQiEU",
        "colab_type": "code",
        "colab": {
          "base_uri": "https://localhost:8080/",
          "height": 404
        },
        "outputId": "2e7e5e9f-c41c-4a49-e971-8fe4057820ee"
      },
      "source": [
        "plt.figure(figsize = (14, 6))\n",
        "sns.boxplot('G3', 'address', data = grades)\n",
        "plt.title(\"CHART SHOWING HOW ADDRESS TYPE AFFECTS THE GRADE OF STUDENTS\")\n",
        "plt.xlabel(\"Final grade\")\n",
        "plt.ylabel(\"Address type\")\n",
        "plt.show()"
      ],
      "execution_count": 34,
      "outputs": [
        {
          "output_type": "display_data",
          "data": {
            "image/png": "[encoded data removed]",
            "text/plain": [
              "<Figure size 1008x432 with 1 Axes>"
            ]
          },
          "metadata": {
            "tags": [],
            "needs_background": "light"
          }
        }
      ]
    },
    {
      "cell_type": "markdown",
      "metadata": {
        "id": "mMDb6LXgSauB",
        "colab_type": "text"
      },
      "source": [
        "**OBSERVATION**\n",
        "\n",
        "* The address type affects the students' final grade to an extent\n",
        "* Generally, students who lived in urban areas have better grades "
      ]
    },
    {
      "cell_type": "markdown",
      "metadata": {
        "id": "pqqrGbvsS2Ie",
        "colab_type": "text"
      },
      "source": [
        "###FAMILY SIZE (famsize)"
      ]
    },
    {
      "cell_type": "markdown",
      "metadata": {
        "id": "k3rVJFlwTLh5",
        "colab_type": "text"
      },
      "source": [
        "**NUMBER OF STUDENTS BY FAMILY SIZE**"
      ]
    },
    {
      "cell_type": "code",
      "metadata": {
        "id": "D4heF6WGTcpz",
        "colab_type": "code",
        "colab": {}
      },
      "source": [
        "grades.replace(to_replace = 'GT3', value = 'Greater than 3', inplace = True)\n",
        "grades.replace(to_replace = 'LE3', value = 'Less than 3', inplace = True)"
      ],
      "execution_count": 38,
      "outputs": []
    },
    {
      "cell_type": "code",
      "metadata": {
        "id": "ao1z2be5RyaY",
        "colab_type": "code",
        "colab": {
          "base_uri": "https://localhost:8080/",
          "height": 72
        },
        "outputId": "b8b85231-ea6d-45d0-cfa6-4557679762c5"
      },
      "source": [
        "grades['famsize'].value_counts()"
      ],
      "execution_count": 39,
      "outputs": [
        {
          "output_type": "execute_result",
          "data": {
            "text/plain": [
              "Greater than 3    281\n",
              "Less than 3       114\n",
              "Name: famsize, dtype: int64"
            ]
          },
          "metadata": {
            "tags": []
          },
          "execution_count": 39
        }
      ]
    },
    {
      "cell_type": "markdown",
      "metadata": {
        "id": "1H1z395gT1Uq",
        "colab_type": "text"
      },
      "source": [
        "* Most of the students have families that are greater than 3"
      ]
    },
    {
      "cell_type": "code",
      "metadata": {
        "id": "N9DYuY8FTa5U",
        "colab_type": "code",
        "colab": {
          "base_uri": "https://localhost:8080/",
          "height": 295
        },
        "outputId": "ed9f39be-37e6-48ce-fcab-b4f134539e14"
      },
      "source": [
        "sns.countplot('famsize', data = grades)\n",
        "plt.title(\"CHART SHOWING THE NUMBER OF STUDENTS BY FAMILY SIZE\")\n",
        "plt.xlabel(\"Family size\")\n",
        "plt.ylabel(\"Number of students\")\n",
        "plt.show()"
      ],
      "execution_count": 40,
      "outputs": [
        {
          "output_type": "display_data",
          "data": {
            "image/png": "[encoded data removed]",
            "text/plain": [
              "<Figure size 432x288 with 1 Axes>"
            ]
          },
          "metadata": {
            "tags": [],
            "needs_background": "light"
          }
        }
      ]
    },
    {
      "cell_type": "markdown",
      "metadata": {
        "id": "7BHWg7idVIJU",
        "colab_type": "text"
      },
      "source": [
        "**FAMILY SIZE AND FINAL GRADE**"
      ]
    },
    {
      "cell_type": "code",
      "metadata": {
        "id": "FGdfOgXdVGoF",
        "colab_type": "code",
        "colab": {
          "base_uri": "https://localhost:8080/",
          "height": 404
        },
        "outputId": "1a2ce486-60ea-476e-a0de-f1c3b86f7f4e"
      },
      "source": [
        "plt.figure(figsize = (14, 6))\n",
        "sns.boxplot('G3', 'famsize', data = grades)\n",
        "plt.title(\"CHART SHOWING HOW FAMILY SIZE AFFECTS GRADE\")\n",
        "plt.xlabel(\"Final grade\")\n",
        "plt.ylabel(\"Family size\")\n",
        "plt.show()"
      ],
      "execution_count": 41,
      "outputs": [
        {
          "output_type": "display_data",
          "data": {
            "image/png": "[encoded data removed]",
            "text/plain": [
              "<Figure size 1008x432 with 1 Axes>"
            ]
          },
          "metadata": {
            "tags": [],
            "needs_background": "light"
          }
        }
      ]
    },
    {
      "cell_type": "markdown",
      "metadata": {
        "id": "ZPn65OhDWeVK",
        "colab_type": "text"
      },
      "source": [
        "* The family size of the students does not affect the final grade of the students"
      ]
    },
    {
      "cell_type": "markdown",
      "metadata": {
        "id": "Qm2pGxoyaiBq",
        "colab_type": "text"
      },
      "source": [
        "###PARENTS COHABITATION STATUS (Pstatus)"
      ]
    },
    {
      "cell_type": "markdown",
      "metadata": {
        "id": "lBCpmVl3asfm",
        "colab_type": "text"
      },
      "source": [
        "**NUMBER OF STUDENTS BY PARENTS COHABITATION STATUS**"
      ]
    },
    {
      "cell_type": "code",
      "metadata": {
        "id": "37-x0BfHh4mP",
        "colab_type": "code",
        "colab": {}
      },
      "source": [
        "grades.replace(to_replace = 'T', value = 'Living together', inplace = True)\n",
        "grades.replace(to_replace = 'A', value = 'Apart', inplace = True)"
      ],
      "execution_count": 43,
      "outputs": []
    },
    {
      "cell_type": "code",
      "metadata": {
        "id": "gl1-kxpEWLzV",
        "colab_type": "code",
        "colab": {
          "base_uri": "https://localhost:8080/",
          "height": 72
        },
        "outputId": "ab580883-f470-4e1d-abee-ac5feb1f1745"
      },
      "source": [
        "grades['Pstatus'].value_counts()"
      ],
      "execution_count": 44,
      "outputs": [
        {
          "output_type": "execute_result",
          "data": {
            "text/plain": [
              "Living together    354\n",
              "Apart               41\n",
              "Name: Pstatus, dtype: int64"
            ]
          },
          "metadata": {
            "tags": []
          },
          "execution_count": 44
        }
      ]
    },
    {
      "cell_type": "markdown",
      "metadata": {
        "id": "mRUSvsGljwqt",
        "colab_type": "text"
      },
      "source": [
        "* Majority of the students have their parents living together "
      ]
    },
    {
      "cell_type": "code",
      "metadata": {
        "id": "-H-7IS8Ph2H2",
        "colab_type": "code",
        "colab": {
          "base_uri": "https://localhost:8080/",
          "height": 295
        },
        "outputId": "2991fdab-f12c-48b2-84db-fa29b9fc72cf"
      },
      "source": [
        "sns.countplot('Pstatus', data = grades)\n",
        "plt.title(\"CHART SHOWING NUMBER OF STUDENTS BY PARENTS COHABITATION STATUS\")\n",
        "plt.xlabel(\"Parents Cohanilitation status\")\n",
        "plt.ylabel(\"Number of students\")\n",
        "plt.show()"
      ],
      "execution_count": 45,
      "outputs": [
        {
          "output_type": "display_data",
          "data": {
            "image/png": "[encoded data removed]",
            "text/plain": [
              "<Figure size 432x288 with 1 Axes>"
            ]
          },
          "metadata": {
            "tags": [],
            "needs_background": "light"
          }
        }
      ]
    },
    {
      "cell_type": "markdown",
      "metadata": {
        "id": "9U9JsjBokgf6",
        "colab_type": "text"
      },
      "source": [
        "**PARENTS COHABILITATION STATUS AND FINAL GRADE**"
      ]
    },
    {
      "cell_type": "code",
      "metadata": {
        "id": "Te5GRpNMkeNU",
        "colab_type": "code",
        "colab": {
          "base_uri": "https://localhost:8080/",
          "height": 404
        },
        "outputId": "6ce4eb0c-fc51-44d2-f453-c805352b0185"
      },
      "source": [
        "plt.figure(figsize = (14, 6))\n",
        "sns.boxplot('G3', 'Pstatus', data = grades)\n",
        "plt.title(\"CHART SHOWING HOW PARENTS COHABILITATION STATUS AFFECTS FINAL GRADE\")\n",
        "plt.xlabel('Final grade')\n",
        "plt.ylabel(\"Parents' Cohabilitation status\")\n",
        "plt.show()"
      ],
      "execution_count": 47,
      "outputs": [
        {
          "output_type": "display_data",
          "data": {
            "image/png": "[encoded data removed]",
            "text/plain": [
              "<Figure size 1008x432 with 1 Axes>"
            ]
          },
          "metadata": {
            "tags": [],
            "needs_background": "light"
          }
        }
      ]
    },
    {
      "cell_type": "markdown",
      "metadata": {
        "id": "2vVC4n5tlMVT",
        "colab_type": "text"
      },
      "source": [
        "**OBSERVATION**\n",
        "\n",
        "* Parents' cohabilitation status does not affect the final grade of the students "
      ]
    },
    {
      "cell_type": "markdown",
      "metadata": {
        "id": "mnbkDJOPlaEI",
        "colab_type": "text"
      },
      "source": [
        "###MOTHER'S EDUCATION (Medu)"
      ]
    },
    {
      "cell_type": "markdown",
      "metadata": {
        "id": "ithOO-ZhlxnU",
        "colab_type": "text"
      },
      "source": [
        "**NUMBER OF STUDENTS BY MOTHER'S EDUCATION**"
      ]
    },
    {
      "cell_type": "code",
      "metadata": {
        "id": "Yb-9Trg1lGZw",
        "colab_type": "code",
        "colab": {
          "base_uri": "https://localhost:8080/",
          "height": 404
        },
        "outputId": "c9057db9-cee1-494d-fbec-aaf2f2a23ef1"
      },
      "source": [
        "plt.figure(figsize = (12, 6))\n",
        "sns.countplot('Medu', data = grades)\n",
        "plt.title(\"CHART SHOWING THE NUMBER OF STUDENTS BY MOTHER'S EDUCATION\")\n",
        "plt.xlabel(\"Mother's level of  education \")\n",
        "plt.ylabel(\"Number of students\")\n",
        "plt.show()"
      ],
      "execution_count": 48,
      "outputs": [
        {
          "output_type": "display_data",
          "data": {
            "image/png": "[encoded data removed]",
            "text/plain": [
              "<Figure size 864x432 with 1 Axes>"
            ]
          },
          "metadata": {
            "tags": [],
            "needs_background": "light"
          }
        }
      ]
    },
    {
      "cell_type": "markdown",
      "metadata": {
        "id": "bCMal7wYmugj",
        "colab_type": "text"
      },
      "source": [
        "* Most students have very educated mothers "
      ]
    },
    {
      "cell_type": "markdown",
      "metadata": {
        "id": "1hOhmhMRm5RS",
        "colab_type": "text"
      },
      "source": [
        "**MOTHER'S EDUCATION AND FINAL GRADE**"
      ]
    },
    {
      "cell_type": "code",
      "metadata": {
        "id": "gn_dJ2Remogd",
        "colab_type": "code",
        "colab": {
          "base_uri": "https://localhost:8080/",
          "height": 404
        },
        "outputId": "8be4a28c-b83c-462e-f403-d33f59c564bb"
      },
      "source": [
        "plt.figure(figsize = (12, 6))\n",
        "sns.barplot('Medu', 'G3', data = grades)\n",
        "plt.title(\"CHART SHOWING HOW MOTHER'S EDUCATION AFFECTS FINAL GRADE\")\n",
        "plt.xlabel(\"Mother's education level\")\n",
        "plt.ylabel(\"FInal grade\")\n",
        "plt.show()"
      ],
      "execution_count": 51,
      "outputs": [
        {
          "output_type": "display_data",
          "data": {
            "image/png": "[encoded data removed]",
            "text/plain": [
              "<Figure size 864x432 with 1 Axes>"
            ]
          },
          "metadata": {
            "tags": [],
            "needs_background": "light"
          }
        }
      ]
    },
    {
      "cell_type": "markdown",
      "metadata": {
        "id": "Dv9d2qOGodJK",
        "colab_type": "text"
      },
      "source": [
        "**OBSERVATION**\n",
        "\n",
        "* Mother's education does not affect the final grade of students"
      ]
    },
    {
      "cell_type": "markdown",
      "metadata": {
        "id": "QOcoQS-golf5",
        "colab_type": "text"
      },
      "source": [
        ""
      ]
    },
    {
      "cell_type": "code",
      "metadata": {
        "id": "hZtSn1uhoBCp",
        "colab_type": "code",
        "colab": {}
      },
      "source": [
        ""
      ],
      "execution_count": null,
      "outputs": []
    }
  ]
}