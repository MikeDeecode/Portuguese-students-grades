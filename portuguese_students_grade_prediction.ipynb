{
  "nbformat": 4,
  "nbformat_minor": 0,
  "metadata": {
    "colab": {
      "name": "portuguese-students-grade-prediction.ipynb",
      "provenance": [],
      "authorship_tag": "ABX9TyN4UTOscC3ufbd5oq++7l9S",
      "include_colab_link": true
    },
    "kernelspec": {
      "name": "python3",
      "display_name": "Python 3"
    }
  },
  "cells": [
    {
      "cell_type": "markdown",
      "metadata": {
        "id": "view-in-github",
        "colab_type": "text"
      },
      "source": [
        "<a href=\"https://colab.research.google.com/github/MikeDeecode/Portuguese-students-grades/blob/master/portuguese_students_grade_prediction.ipynb\" target=\"_parent\"><img src=\"https://colab.research.google.com/assets/colab-badge.svg\" alt=\"Open In Colab\"/></a>"
      ]
    },
    {
      "cell_type": "markdown",
      "metadata": {
        "id": "dBME1lsDavmP",
        "colab_type": "text"
      },
      "source": [
        "#**USING MULTIPLE LINEAR REGRESSION TO PREDICT THE FINAL GRADE OF STUDENTS**\n"
      ]
    },
    {
      "cell_type": "code",
      "metadata": {
        "id": "GptXhmqUajOz",
        "colab_type": "code",
        "colab": {
          "base_uri": "https://localhost:8080/",
          "height": 35
        },
        "outputId": "c465bbc8-65b6-4225-b262-f338e1c1b0c0"
      },
      "source": [
        "import numpy as np\n",
        "import pandas as pd\n",
        "import warnings\n",
        "warnings.filterwarnings('ignore')\n",
        "\n",
        "print(\"Setup complete\")"
      ],
      "execution_count": null,
      "outputs": [
        {
          "output_type": "stream",
          "text": [
            "Setup complete\n"
          ],
          "name": "stdout"
        }
      ]
    },
    {
      "cell_type": "code",
      "metadata": {
        "id": "xjCsNndXbOn-",
        "colab_type": "code",
        "colab": {
          "base_uri": "https://localhost:8080/",
          "height": 35
        },
        "outputId": "e9c0dc1d-e1a8-429b-a510-901ef9ce0256"
      },
      "source": [
        "grades = pd.read_csv(\"/content/portuguese school students grades.csv\")\n",
        "print(\"Success\")"
      ],
      "execution_count": 41,
      "outputs": [
        {
          "output_type": "stream",
          "text": [
            "Success\n"
          ],
          "name": "stdout"
        }
      ]
    },
    {
      "cell_type": "markdown",
      "metadata": {
        "id": "rwSqCRThjVxB",
        "colab_type": "text"
      },
      "source": [
        "##Feature selection"
      ]
    },
    {
      "cell_type": "markdown",
      "metadata": {
        "id": "qX9zNJMLjYKg",
        "colab_type": "text"
      },
      "source": [
        "I will use the features that affected the final grade (G3) significantly based on my analysis \n",
        "\n",
        "Please check my analysis and readme for more information about the dataset\n",
        "\n",
        "Note that I want to predict G3 which is the final grade"
      ]
    },
    {
      "cell_type": "code",
      "metadata": {
        "id": "3gfkPSm9jNXZ",
        "colab_type": "code",
        "colab": {}
      },
      "source": [
        "features = grades[['schoolsup', 'address', 'failures', 'higher', 'G1', 'G2', 'G3']]"
      ],
      "execution_count": 42,
      "outputs": []
    },
    {
      "cell_type": "code",
      "metadata": {
        "id": "ep6eeK0mkjwm",
        "colab_type": "code",
        "colab": {
          "base_uri": "https://localhost:8080/",
          "height": 197
        },
        "outputId": "3f195ca1-5e3b-42fe-b114-48833562b5ed"
      },
      "source": [
        "features.head()"
      ],
      "execution_count": 44,
      "outputs": [
        {
          "output_type": "execute_result",
          "data": {
            "text/html": [
              "<div>\n",
              "<style scoped>\n",
              "    .dataframe tbody tr th:only-of-type {\n",
              "        vertical-align: middle;\n",
              "    }\n",
              "\n",
              "    .dataframe tbody tr th {\n",
              "        vertical-align: top;\n",
              "    }\n",
              "\n",
              "    .dataframe thead th {\n",
              "        text-align: right;\n",
              "    }\n",
              "</style>\n",
              "<table border=\"1\" class=\"dataframe\">\n",
              "  <thead>\n",
              "    <tr style=\"text-align: right;\">\n",
              "      <th></th>\n",
              "      <th>schoolsup</th>\n",
              "      <th>address</th>\n",
              "      <th>failures</th>\n",
              "      <th>higher</th>\n",
              "      <th>G1</th>\n",
              "      <th>G2</th>\n",
              "      <th>G3</th>\n",
              "    </tr>\n",
              "  </thead>\n",
              "  <tbody>\n",
              "    <tr>\n",
              "      <th>0</th>\n",
              "      <td>yes</td>\n",
              "      <td>U</td>\n",
              "      <td>0</td>\n",
              "      <td>yes</td>\n",
              "      <td>5</td>\n",
              "      <td>6</td>\n",
              "      <td>6</td>\n",
              "    </tr>\n",
              "    <tr>\n",
              "      <th>1</th>\n",
              "      <td>no</td>\n",
              "      <td>U</td>\n",
              "      <td>0</td>\n",
              "      <td>yes</td>\n",
              "      <td>5</td>\n",
              "      <td>5</td>\n",
              "      <td>6</td>\n",
              "    </tr>\n",
              "    <tr>\n",
              "      <th>2</th>\n",
              "      <td>yes</td>\n",
              "      <td>U</td>\n",
              "      <td>3</td>\n",
              "      <td>yes</td>\n",
              "      <td>7</td>\n",
              "      <td>8</td>\n",
              "      <td>10</td>\n",
              "    </tr>\n",
              "    <tr>\n",
              "      <th>3</th>\n",
              "      <td>no</td>\n",
              "      <td>U</td>\n",
              "      <td>0</td>\n",
              "      <td>yes</td>\n",
              "      <td>15</td>\n",
              "      <td>14</td>\n",
              "      <td>15</td>\n",
              "    </tr>\n",
              "    <tr>\n",
              "      <th>4</th>\n",
              "      <td>no</td>\n",
              "      <td>U</td>\n",
              "      <td>0</td>\n",
              "      <td>yes</td>\n",
              "      <td>6</td>\n",
              "      <td>10</td>\n",
              "      <td>10</td>\n",
              "    </tr>\n",
              "  </tbody>\n",
              "</table>\n",
              "</div>"
            ],
            "text/plain": [
              "  schoolsup address  failures higher  G1  G2  G3\n",
              "0       yes       U         0    yes   5   6   6\n",
              "1        no       U         0    yes   5   5   6\n",
              "2       yes       U         3    yes   7   8  10\n",
              "3        no       U         0    yes  15  14  15\n",
              "4        no       U         0    yes   6  10  10"
            ]
          },
          "metadata": {
            "tags": []
          },
          "execution_count": 44
        }
      ]
    },
    {
      "cell_type": "markdown",
      "metadata": {
        "id": "Pn70fUEWkqCl",
        "colab_type": "text"
      },
      "source": [
        "We need to convert the categorical variables to numerical types"
      ]
    },
    {
      "cell_type": "code",
      "metadata": {
        "id": "j48Os_26kllU",
        "colab_type": "code",
        "colab": {}
      },
      "source": [
        "features['schoolsup'] = features['schoolsup'].map({'yes':1, 'no':0})\n",
        "features['address'] = features['address'].map({'U':1, 'R':0})\n",
        "features['higher'] = features['higher'].map({'yes':1, 'no':0})"
      ],
      "execution_count": 45,
      "outputs": []
    },
    {
      "cell_type": "code",
      "metadata": {
        "id": "lbNUWjUYlPRK",
        "colab_type": "code",
        "colab": {
          "base_uri": "https://localhost:8080/",
          "height": 197
        },
        "outputId": "2ec1a9c3-b108-4e82-dd4c-ff5d92a2fe59"
      },
      "source": [
        "features.head()"
      ],
      "execution_count": 46,
      "outputs": [
        {
          "output_type": "execute_result",
          "data": {
            "text/html": [
              "<div>\n",
              "<style scoped>\n",
              "    .dataframe tbody tr th:only-of-type {\n",
              "        vertical-align: middle;\n",
              "    }\n",
              "\n",
              "    .dataframe tbody tr th {\n",
              "        vertical-align: top;\n",
              "    }\n",
              "\n",
              "    .dataframe thead th {\n",
              "        text-align: right;\n",
              "    }\n",
              "</style>\n",
              "<table border=\"1\" class=\"dataframe\">\n",
              "  <thead>\n",
              "    <tr style=\"text-align: right;\">\n",
              "      <th></th>\n",
              "      <th>schoolsup</th>\n",
              "      <th>address</th>\n",
              "      <th>failures</th>\n",
              "      <th>higher</th>\n",
              "      <th>G1</th>\n",
              "      <th>G2</th>\n",
              "      <th>G3</th>\n",
              "    </tr>\n",
              "  </thead>\n",
              "  <tbody>\n",
              "    <tr>\n",
              "      <th>0</th>\n",
              "      <td>1</td>\n",
              "      <td>1</td>\n",
              "      <td>0</td>\n",
              "      <td>1</td>\n",
              "      <td>5</td>\n",
              "      <td>6</td>\n",
              "      <td>6</td>\n",
              "    </tr>\n",
              "    <tr>\n",
              "      <th>1</th>\n",
              "      <td>0</td>\n",
              "      <td>1</td>\n",
              "      <td>0</td>\n",
              "      <td>1</td>\n",
              "      <td>5</td>\n",
              "      <td>5</td>\n",
              "      <td>6</td>\n",
              "    </tr>\n",
              "    <tr>\n",
              "      <th>2</th>\n",
              "      <td>1</td>\n",
              "      <td>1</td>\n",
              "      <td>3</td>\n",
              "      <td>1</td>\n",
              "      <td>7</td>\n",
              "      <td>8</td>\n",
              "      <td>10</td>\n",
              "    </tr>\n",
              "    <tr>\n",
              "      <th>3</th>\n",
              "      <td>0</td>\n",
              "      <td>1</td>\n",
              "      <td>0</td>\n",
              "      <td>1</td>\n",
              "      <td>15</td>\n",
              "      <td>14</td>\n",
              "      <td>15</td>\n",
              "    </tr>\n",
              "    <tr>\n",
              "      <th>4</th>\n",
              "      <td>0</td>\n",
              "      <td>1</td>\n",
              "      <td>0</td>\n",
              "      <td>1</td>\n",
              "      <td>6</td>\n",
              "      <td>10</td>\n",
              "      <td>10</td>\n",
              "    </tr>\n",
              "  </tbody>\n",
              "</table>\n",
              "</div>"
            ],
            "text/plain": [
              "   schoolsup  address  failures  higher  G1  G2  G3\n",
              "0          1        1         0       1   5   6   6\n",
              "1          0        1         0       1   5   5   6\n",
              "2          1        1         3       1   7   8  10\n",
              "3          0        1         0       1  15  14  15\n",
              "4          0        1         0       1   6  10  10"
            ]
          },
          "metadata": {
            "tags": []
          },
          "execution_count": 46
        }
      ]
    },
    {
      "cell_type": "markdown",
      "metadata": {
        "id": "2mvxoHhmlSR0",
        "colab_type": "text"
      },
      "source": [
        "##Splitting data into training and testing sets"
      ]
    },
    {
      "cell_type": "code",
      "metadata": {
        "id": "qF0Gp40qlQ7_",
        "colab_type": "code",
        "colab": {}
      },
      "source": [
        "split = np.random.rand(len(grades)) < 0.8\n",
        "train = features[split]\n",
        "test = features[~split]"
      ],
      "execution_count": 47,
      "outputs": []
    },
    {
      "cell_type": "markdown",
      "metadata": {
        "id": "fUDBjroCl0Ot",
        "colab_type": "text"
      },
      "source": [
        "##Modeling"
      ]
    },
    {
      "cell_type": "markdown",
      "metadata": {
        "id": "oVKOKMhjl40N",
        "colab_type": "text"
      },
      "source": [
        "Lets split training set into independent and dependent variables then convert it to a numpy array"
      ]
    },
    {
      "cell_type": "code",
      "metadata": {
        "id": "geYZGprolyef",
        "colab_type": "code",
        "colab": {}
      },
      "source": [
        "x = np.asanyarray(train[['schoolsup', 'address', 'failures', 'higher', 'G1', 'G2']])\n",
        "y = np.asanyarray(train['G3'])"
      ],
      "execution_count": 48,
      "outputs": []
    },
    {
      "cell_type": "code",
      "metadata": {
        "id": "09JZlGN5mVTk",
        "colab_type": "code",
        "colab": {
          "base_uri": "https://localhost:8080/",
          "height": 108
        },
        "outputId": "6ede78c7-89ba-41b6-ada6-0cf88e67c113"
      },
      "source": [
        "x[0:5]"
      ],
      "execution_count": 49,
      "outputs": [
        {
          "output_type": "execute_result",
          "data": {
            "text/plain": [
              "array([[ 1,  1,  0,  1,  5,  6],\n",
              "       [ 0,  1,  0,  1,  5,  5],\n",
              "       [ 0,  1,  0,  1, 15, 14],\n",
              "       [ 0,  1,  0,  1,  6, 10],\n",
              "       [ 0,  1,  0,  1, 12, 12]])"
            ]
          },
          "metadata": {
            "tags": []
          },
          "execution_count": 49
        }
      ]
    },
    {
      "cell_type": "code",
      "metadata": {
        "id": "TcBFV3OGmXND",
        "colab_type": "code",
        "colab": {
          "base_uri": "https://localhost:8080/",
          "height": 35
        },
        "outputId": "13dd4a19-6af3-4175-b259-91ce0363e340"
      },
      "source": [
        "y[0:5]"
      ],
      "execution_count": 50,
      "outputs": [
        {
          "output_type": "execute_result",
          "data": {
            "text/plain": [
              "array([ 6,  6, 15, 10, 11])"
            ]
          },
          "metadata": {
            "tags": []
          },
          "execution_count": 50
        }
      ]
    },
    {
      "cell_type": "markdown",
      "metadata": {
        "id": "vI8l9-xzmcYX",
        "colab_type": "text"
      },
      "source": [
        "Import the modeling library"
      ]
    },
    {
      "cell_type": "code",
      "metadata": {
        "id": "Cs3Ul0jqmZfr",
        "colab_type": "code",
        "colab": {}
      },
      "source": [
        "from sklearn import linear_model"
      ],
      "execution_count": 51,
      "outputs": []
    },
    {
      "cell_type": "code",
      "metadata": {
        "id": "kSONgv45mipC",
        "colab_type": "code",
        "colab": {
          "base_uri": "https://localhost:8080/",
          "height": 35
        },
        "outputId": "30013494-b759-489b-a0be-a6ed80de864c"
      },
      "source": [
        "model = linear_model.LinearRegression()\n",
        "model.fit(x, y)"
      ],
      "execution_count": 52,
      "outputs": [
        {
          "output_type": "execute_result",
          "data": {
            "text/plain": [
              "LinearRegression(copy_X=True, fit_intercept=True, n_jobs=None, normalize=False)"
            ]
          },
          "metadata": {
            "tags": []
          },
          "execution_count": 52
        }
      ]
    },
    {
      "cell_type": "code",
      "metadata": {
        "id": "fMCp3zmgmoE3",
        "colab_type": "code",
        "colab": {
          "base_uri": "https://localhost:8080/",
          "height": 35
        },
        "outputId": "9ee968f0-5a64-431c-bb4f-4ef06a878505"
      },
      "source": [
        "print(\"The coefficients of the features:\" , model.coef_)"
      ],
      "execution_count": 60,
      "outputs": [
        {
          "output_type": "stream",
          "text": [
            "The coefficients of the features: [ 0.42751898 -0.20117216 -0.22116381 -0.45676737  0.15739249  0.96805628]\n"
          ],
          "name": "stdout"
        }
      ]
    },
    {
      "cell_type": "code",
      "metadata": {
        "id": "bR76iRlrm7Hv",
        "colab_type": "code",
        "colab": {
          "base_uri": "https://localhost:8080/",
          "height": 35
        },
        "outputId": "30116946-c93d-48fe-e599-63df8f3c8bf2"
      },
      "source": [
        "print(\"Intercept: %.2f\"%model.intercept_)"
      ],
      "execution_count": 62,
      "outputs": [
        {
          "output_type": "stream",
          "text": [
            "Intercept: -1.06\n"
          ],
          "name": "stdout"
        }
      ]
    },
    {
      "cell_type": "markdown",
      "metadata": {
        "id": "FEDWd35BnhNp",
        "colab_type": "text"
      },
      "source": [
        "##Prediction"
      ]
    },
    {
      "cell_type": "code",
      "metadata": {
        "id": "k97Qs5HDnYsf",
        "colab_type": "code",
        "colab": {}
      },
      "source": [
        "y_predict = model.predict(test[['schoolsup', 'address', 'failures', 'higher', 'G1', 'G2']])"
      ],
      "execution_count": 63,
      "outputs": []
    },
    {
      "cell_type": "markdown",
      "metadata": {
        "id": "GSQklPmMvobo",
        "colab_type": "text"
      },
      "source": [
        "##Model Evaluation"
      ]
    },
    {
      "cell_type": "code",
      "metadata": {
        "id": "z94G3wKBvmzm",
        "colab_type": "code",
        "colab": {}
      },
      "source": [
        "X = np.asanyarray(test[['schoolsup', 'address', 'failures', 'higher', 'G1', 'G2']])\n",
        "Y = np.asanyarray(test['G3'])"
      ],
      "execution_count": 64,
      "outputs": []
    },
    {
      "cell_type": "markdown",
      "metadata": {
        "id": "R_WytxpEvyjp",
        "colab_type": "text"
      },
      "source": [
        "**Mean Squared Error**"
      ]
    },
    {
      "cell_type": "code",
      "metadata": {
        "id": "I9sKVPOPvxrc",
        "colab_type": "code",
        "colab": {
          "base_uri": "https://localhost:8080/",
          "height": 35
        },
        "outputId": "30b11935-f2ca-4d1e-eef4-971487f7d570"
      },
      "source": [
        "print(\"Mean Squared error: %.2f\" %np.mean((y_predict - Y) ** 2))"
      ],
      "execution_count": 69,
      "outputs": [
        {
          "output_type": "stream",
          "text": [
            "Mean Squared error: 2.96\n"
          ],
          "name": "stdout"
        }
      ]
    },
    {
      "cell_type": "markdown",
      "metadata": {
        "id": "grQuRiuuwatp",
        "colab_type": "text"
      },
      "source": [
        "The error is quite small \n",
        "\n",
        "Lets proceed to see the Explained variance score"
      ]
    },
    {
      "cell_type": "markdown",
      "metadata": {
        "id": "piqFIsY7whVZ",
        "colab_type": "text"
      },
      "source": [
        "**Explained variance score**"
      ]
    },
    {
      "cell_type": "code",
      "metadata": {
        "id": "UnBEIkGIwFCK",
        "colab_type": "code",
        "colab": {
          "base_uri": "https://localhost:8080/",
          "height": 35
        },
        "outputId": "03e4feb5-77a7-491c-e449-35cb121bed85"
      },
      "source": [
        "print(\"Explained variance score: %.2f\" %model.score(X, Y))"
      ],
      "execution_count": 70,
      "outputs": [
        {
          "output_type": "stream",
          "text": [
            "Explained variance score: 0.87\n"
          ],
          "name": "stdout"
        }
      ]
    },
    {
      "cell_type": "markdown",
      "metadata": {
        "id": "5PKfyibiw4Ui",
        "colab_type": "text"
      },
      "source": [
        "* The explained variance score of the model suggests that It is very dependable for out of sample prediction"
      ]
    },
    {
      "cell_type": "markdown",
      "metadata": {
        "id": "0fEPRibsxD1O",
        "colab_type": "text"
      },
      "source": [
        "#**THANK YOU FOR VIEWING MY PROJECT!!!**"
      ]
    }
  ]
}