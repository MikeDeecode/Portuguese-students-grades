{
  "nbformat": 4,
  "nbformat_minor": 0,
  "metadata": {
    "colab": {
      "name": "portuguese-students-grade-prediction.ipynb",
      "provenance": [],
      "authorship_tag": "ABX9TyPciNj8+uMN2iC2vjZGnLHu",
      "include_colab_link": true
    },
    "kernelspec": {
      "name": "python3",
      "display_name": "Python 3"
    }
  },
  "cells": [
    {
      "cell_type": "markdown",
      "metadata": {
        "id": "view-in-github",
        "colab_type": "text"
      },
      "source": [
        "<a href=\"https://colab.research.google.com/github/MikeDeecode/Portuguese-students-grades/blob/master/portuguese_students_grade_prediction.ipynb\" target=\"_parent\"><img src=\"https://colab.research.google.com/assets/colab-badge.svg\" alt=\"Open In Colab\"/></a>"
      ]
    },
    {
      "cell_type": "markdown",
      "metadata": {
        "id": "dBME1lsDavmP",
        "colab_type": "text"
      },
      "source": [
        "#**USING MULTIPLE LINEAR REGRESSION TO PREDICT THE FINAL GRADE OF STUDENTS**\n"
      ]
    },
    {
      "cell_type": "code",
      "metadata": {
        "id": "GptXhmqUajOz",
        "colab_type": "code",
        "colab": {
          "base_uri": "https://localhost:8080/",
          "height": 35
        },
        "outputId": "c465bbc8-65b6-4225-b262-f338e1c1b0c0"
      },
      "source": [
        "import numpy as np\n",
        "import pandas as pd\n",
        "import warnings\n",
        "warnings.filterwarnings('ignore')\n",
        "\n",
        "print(\"Setup complete\")"
      ],
      "execution_count": null,
      "outputs": [
        {
          "output_type": "stream",
          "text": [
            "Setup complete\n"
          ],
          "name": "stdout"
        }
      ]
    },
    {
      "cell_type": "code",
      "metadata": {
        "id": "xjCsNndXbOn-",
        "colab_type": "code",
        "colab": {
          "base_uri": "https://localhost:8080/",
          "height": 35
        },
        "outputId": "e9c0dc1d-e1a8-429b-a510-901ef9ce0256"
      },
      "source": [
        "grades = pd.read_csv(\"/content/portuguese school students grades.csv\")\n",
        "print(\"Success\")"
      ],
      "execution_count": 41,
      "outputs": [
        {
          "output_type": "stream",
          "text": [
            "Success\n"
          ],
          "name": "stdout"
        }
      ]
    },
    {
      "cell_type": "markdown",
      "metadata": {
        "id": "rwSqCRThjVxB",
        "colab_type": "text"
      },
      "source": [
        "##Feature selection"
      ]
    },
    {
      "cell_type": "markdown",
      "metadata": {
        "id": "qX9zNJMLjYKg",
        "colab_type": "text"
      },
      "source": [
        "I will use the features that affected the final grade (G3) significantly based on my analysis \n",
        "\n",
        "Please check my analysis and readme for more information about the dataset\n",
        "\n",
        "Note that I want to predict G3 which is the final grade"
      ]
    },
    {
      "cell_type": "code",
      "metadata": {
        "id": "3gfkPSm9jNXZ",
        "colab_type": "code",
        "colab": {}
      },
      "source": [
        "features = grades[['schoolsup', '']]"
      ],
      "execution_count": null,
      "outputs": []
    }
  ]
}